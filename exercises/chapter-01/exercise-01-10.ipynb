{
 "cells": [
  {
   "cell_type": "markdown",
   "id": "9abc2f0d",
   "metadata": {},
   "source": [
    "# Exercise 1.10"
   ]
  },
  {
   "cell_type": "code",
   "execution_count": 2,
   "id": "d7c69bdb",
   "metadata": {},
   "outputs": [],
   "source": [
    "#lang iracket/lang #:require sicp\n",
    "(#%require \"../../libraries/chapter-01.rkt\")"
   ]
  },
  {
   "cell_type": "code",
   "execution_count": 3,
   "id": "a0290318",
   "metadata": {},
   "outputs": [],
   "source": [
    "(define (A x y)\n",
    "  (cond ((= y 0) 0)\n",
    "        ((= x 0) (* 2 y))\n",
    "        ((= y 1) 2)\n",
    "        (else (A (- x 1)\n",
    "                 (A x (- y 1))))))"
   ]
  },
  {
   "cell_type": "markdown",
   "id": "a727eefc",
   "metadata": {},
   "source": [
    "```scm\n",
    "(A 1 10)\n",
    "(A 0 (A 1 9))\n",
    "(A 0 (A 0 (A 1 8)))\n",
    "(A 0 (A 0 (A 0 (A 1 7))))\n",
    "(A 0 (A 0 (A 0 (A 0 (A 1 6)))))\n",
    "(A 0 (A 0 (A 0 (A 0 (A 0 (A 1 5))))))\n",
    "(A 0 (A 0 (A 0 (A 0 (A 0 (A 0 (A 1 4)))))))\n",
    "(A 0 (A 0 (A 0 (A 0 (A 0 (A 0 (A 0 (A 1 3))))))))\n",
    "(A 0 (A 0 (A 0 (A 0 (A 0 (A 0 (A 0 (A 0 (A 1 2)))))))))\n",
    "(A 0 (A 0 (A 0 (A 0 (A 0 (A 0 (A 0 (A 0 (A 0 (A 1 1))))))))))\n",
    "(A 0 (A 0 (A 0 (A 0 (A 0 (A 0 (A 0 (A 0 (A 0 2)))))))))\n",
    "(A 0 (A 0 (A 0 (A 0 (A 0 (A 0 (A 0 (A 0 4))))))))\n",
    "(A 0 (A 0 (A 0 (A 0 (A 0 (A 0 (A 0 8)))))))\n",
    "(A 0 (A 0 (A 0 (A 0 (A 0 (A 0 16))))))\n",
    "(A 0 (A 0 (A 0 (A 0 (A 0 32)))))\n",
    "(A 0 (A 0 (A 0 (A 0 64))))\n",
    "(A 0 (A 0 (A 0 128)))\n",
    "(A 0 (A 0 256))\n",
    "(A 0 512)\n",
    "1024\n",
    "```"
   ]
  },
  {
   "cell_type": "code",
   "execution_count": 4,
   "id": "65d8c71e",
   "metadata": {},
   "outputs": [
    {
     "data": {
      "text/html": [
       "<code>1024</code>"
      ],
      "text/plain": [
       "1024"
      ]
     },
     "execution_count": 4,
     "metadata": {},
     "output_type": "execute_result"
    }
   ],
   "source": [
    "(A 1 10)"
   ]
  },
  {
   "cell_type": "markdown",
   "id": "7c8e14f8",
   "metadata": {},
   "source": [
    "```scm\n",
    "(A 2 4)\n",
    "(A 1 (A 2 3))\n",
    "(A 1 (A 1 (A 2 2)))\n",
    "(A 1 (A 1 (A 1 (A 2 1))))\n",
    "(A 1 (A 1 (A 1 2)))\n",
    "(A 1 (A 1 (A 0 (A 1 1))))\n",
    "(A 1 (A 1 (A 0 2)))\n",
    "(A 1 (A 1 4))\n",
    "(A 1 (A 0 (A 1 3)))\n",
    "(A 1 (A 0 (A 0 (A 1 2))))\n",
    "(A 1 (A 0 (A 0 (A 0 (A 1 1)))))\n",
    "(A 1 (A 0 (A 0 (A 0 2))))\n",
    "(A 1 (A 0 (A 0 4)))\n",
    "(A 1 (A 0 8))\n",
    "(A 1 16)\n",
    "(A 0 (A 1 15))\n",
    "(A 0 (A 0 (A 1 14)))\n",
    "(A 0 (A 0 (A 0 (A 1 13))))\n",
    "(A 0 (A 0 (A 0 (A 0 (A 1 12)))))\n",
    "(A 0 (A 0 (A 0 (A 0 (A 0 (A 1 11))))))\n",
    "(A 0 (A 0 (A 0 (A 0 (A 0 (A 0 (A 1 10)))))))\n",
    "...\n",
    "(A 0 (A 0 (A 0 (A 0 (A 0 (A 0 1024))))))\n",
    "(A 0 (A 0 (A 0 (A 0 (A 0 2048)))))\n",
    "(A 0 (A 0 (A 0 (A 0 4096))))\n",
    "(A 0 (A 0 (A 0 8192)))\n",
    "(A 0 (A 0 16384))\n",
    "(A 0 32768)\n",
    "65536\n",
    "```"
   ]
  },
  {
   "cell_type": "code",
   "execution_count": 5,
   "id": "63de694b",
   "metadata": {},
   "outputs": [
    {
     "data": {
      "text/html": [
       "<code>65536</code>"
      ],
      "text/plain": [
       "65536"
      ]
     },
     "execution_count": 5,
     "metadata": {},
     "output_type": "execute_result"
    }
   ],
   "source": [
    "(A 2 4)"
   ]
  },
  {
   "cell_type": "markdown",
   "id": "004290cf",
   "metadata": {},
   "source": [
    "```scm\n",
    "(A 3 3)\n",
    "(A 2 (A 3 2))\n",
    "(A 2 (A 2 (A 3 1)))\n",
    "(A 2 (A 2 2))\n",
    "(A 2 (A 1 (A 2 1)))\n",
    "(A 2 (A 1 2))\n",
    "(A 2 (A 0 (A 1 1)))\n",
    "(A 2 (A 0 2))\n",
    "(A 2 4)\n",
    "...\n",
    "65536\n",
    "```"
   ]
  },
  {
   "cell_type": "code",
   "execution_count": 6,
   "id": "60f66a9f",
   "metadata": {},
   "outputs": [
    {
     "data": {
      "text/html": [
       "<code>65536</code>"
      ],
      "text/plain": [
       "65536"
      ]
     },
     "execution_count": 6,
     "metadata": {},
     "output_type": "execute_result"
    }
   ],
   "source": [
    "(A 3 3)"
   ]
  },
  {
   "cell_type": "code",
   "execution_count": 7,
   "id": "97f18c37",
   "metadata": {},
   "outputs": [],
   "source": [
    "(define (f n) (A 0 n))"
   ]
  },
  {
   "cell_type": "markdown",
   "id": "1c4b149a",
   "metadata": {},
   "source": [
    "$f(n) = 2n$"
   ]
  },
  {
   "cell_type": "code",
   "execution_count": 8,
   "id": "1a701629",
   "metadata": {},
   "outputs": [
    {
     "data": {
      "text/html": [
       "<code>6</code>"
      ],
      "text/plain": [
       "6"
      ]
     },
     "execution_count": 8,
     "metadata": {},
     "output_type": "execute_result"
    }
   ],
   "source": [
    "(f 3)"
   ]
  },
  {
   "cell_type": "code",
   "execution_count": 9,
   "id": "550824fd",
   "metadata": {},
   "outputs": [],
   "source": [
    "(define (g n) (A 1 n))"
   ]
  },
  {
   "cell_type": "markdown",
   "id": "2ae4f34d",
   "metadata": {},
   "source": [
    "$g(n) = 2^n$"
   ]
  },
  {
   "cell_type": "code",
   "execution_count": 10,
   "id": "b81b0c02",
   "metadata": {},
   "outputs": [
    {
     "data": {
      "text/html": [
       "<code>8</code>"
      ],
      "text/plain": [
       "8"
      ]
     },
     "execution_count": 10,
     "metadata": {},
     "output_type": "execute_result"
    }
   ],
   "source": [
    "(g 3)"
   ]
  },
  {
   "cell_type": "code",
   "execution_count": 11,
   "id": "28eaeb87",
   "metadata": {},
   "outputs": [],
   "source": [
    "(define (h n) (A 2 n))"
   ]
  },
  {
   "cell_type": "markdown",
   "id": "8299118a",
   "metadata": {},
   "source": [
    "$h(n) = {^{n}2}$"
   ]
  },
  {
   "cell_type": "code",
   "execution_count": 12,
   "id": "c6f97ee8",
   "metadata": {},
   "outputs": [
    {
     "data": {
      "text/html": [
       "<code>16</code>"
      ],
      "text/plain": [
       "16"
      ]
     },
     "execution_count": 12,
     "metadata": {},
     "output_type": "execute_result"
    }
   ],
   "source": [
    "(h 3)"
   ]
  }
 ],
 "metadata": {
  "kernelspec": {
   "display_name": "Racket",
   "language": "racket",
   "name": "racket"
  },
  "language_info": {
   "codemirror_mode": "scheme",
   "file_extension": ".rkt",
   "mimetype": "text/x-racket",
   "name": "racket",
   "pygments_lexer": "racket",
   "version": "8.17"
  }
 },
 "nbformat": 4,
 "nbformat_minor": 5
}
