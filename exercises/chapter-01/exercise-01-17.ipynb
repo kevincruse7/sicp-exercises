{
 "cells": [
  {
   "cell_type": "markdown",
   "id": "796eb1c4",
   "metadata": {},
   "source": [
    "# Exercise 1.17"
   ]
  },
  {
   "cell_type": "code",
   "execution_count": 1,
   "id": "f190ad48",
   "metadata": {
    "vscode": {
     "languageId": "racket"
    }
   },
   "outputs": [],
   "source": [
    "#lang iracket/lang #:require sicp\n",
    "(#%require \"../../libraries/chapter-01.rkt\")"
   ]
  },
  {
   "cell_type": "code",
   "execution_count": 2,
   "id": "6126eac5",
   "metadata": {
    "vscode": {
     "languageId": "racket"
    }
   },
   "outputs": [],
   "source": [
    "(define (fast-mult x y)\n",
    "  (cond ((= y 0) 0)\n",
    "        ((even? y) (double (fast-mult x (halve y))))\n",
    "        (else (+ x (fast-mult x (- y 1))))))"
   ]
  },
  {
   "cell_type": "markdown",
   "id": "419f9d64",
   "metadata": {},
   "source": [
    "$y$ is even:\n",
    "\n",
    "```math\n",
    "x \\times y = 2x \\left( \\frac{y}{2} \\right)\n",
    "```\n",
    "\n",
    "$y$ is odd:\n",
    "\n",
    "```math\n",
    "x \\times y = x(y - 1) + x\n",
    "```"
   ]
  },
  {
   "cell_type": "code",
   "execution_count": 3,
   "id": "6b335ab6",
   "metadata": {
    "vscode": {
     "languageId": "racket"
    }
   },
   "outputs": [
    {
     "data": {
      "text/html": [
       "<code>8</code>"
      ],
      "text/plain": [
       "8"
      ]
     },
     "execution_count": 3,
     "metadata": {},
     "output_type": "execute_result"
    }
   ],
   "source": [
    "(fast-mult 2 4)"
   ]
  },
  {
   "cell_type": "code",
   "execution_count": 4,
   "id": "aba0b8a0",
   "metadata": {
    "vscode": {
     "languageId": "racket"
    }
   },
   "outputs": [
    {
     "data": {
      "text/html": [
       "<code>63</code>"
      ],
      "text/plain": [
       "63"
      ]
     },
     "execution_count": 4,
     "metadata": {},
     "output_type": "execute_result"
    }
   ],
   "source": [
    "(fast-mult 7 9)"
   ]
  },
  {
   "cell_type": "code",
   "execution_count": 5,
   "id": "40eae31d",
   "metadata": {
    "vscode": {
     "languageId": "racket"
    }
   },
   "outputs": [
    {
     "data": {
      "text/html": [
       "<code>129000</code>"
      ],
      "text/plain": [
       "129000"
      ]
     },
     "execution_count": 5,
     "metadata": {},
     "output_type": "execute_result"
    }
   ],
   "source": [
    "(fast-mult 1000 129)"
   ]
  }
 ],
 "metadata": {
  "kernelspec": {
   "display_name": "Racket",
   "language": "racket",
   "name": "racket"
  },
  "language_info": {
   "codemirror_mode": "scheme",
   "file_extension": ".rkt",
   "mimetype": "text/x-racket",
   "name": "Racket",
   "pygments_lexer": "racket",
   "version": "8.17"
  }
 },
 "nbformat": 4,
 "nbformat_minor": 5
}
