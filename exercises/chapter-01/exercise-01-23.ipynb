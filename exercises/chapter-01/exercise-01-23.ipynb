{
 "cells": [
  {
   "cell_type": "markdown",
   "id": "13ad4ac6",
   "metadata": {},
   "source": [
    "# Exercise 1.23"
   ]
  },
  {
   "cell_type": "code",
   "execution_count": 1,
   "id": "87490ee1",
   "metadata": {},
   "outputs": [],
   "source": [
    "#lang iracket/lang #:require sicp\n",
    "(#%require \"../../libraries/chapter-01.rkt\")"
   ]
  },
  {
   "cell_type": "code",
   "execution_count": 2,
   "id": "ec60b7fe",
   "metadata": {},
   "outputs": [],
   "source": [
    "(define (timed-prime-test n)\n",
    "  (newline)\n",
    "  (display n)\n",
    "  (start-prime-test n (runtime)))\n",
    "\n",
    "(define (start-prime-test n start-time)\n",
    "  (if (prime? n)\n",
    "      (report-prime (- (runtime) start-time))))\n",
    "\n",
    "(define (report-prime elapsed-time)\n",
    "  (display \" *** \")\n",
    "  (display elapsed-time))\n",
    "\n",
    "(define (prime? n)\n",
    "  (= n (smallest-divisor n)))\n",
    "\n",
    "(define (smallest-divisor n)\n",
    "  (find-divisor n 2))\n",
    "\n",
    "(define (find-divisor n test-divisor)\n",
    "  (cond ((> (square test-divisor) n) n)\n",
    "        ((divides? test-divisor n) test-divisor)\n",
    "        (else (find-divisor n (next test-divisor)))))\n",
    "\n",
    "(define (next n)\n",
    "  (if (= n 2) 3 (+ n 2)))"
   ]
  },
  {
   "cell_type": "code",
   "execution_count": 3,
   "id": "789d4cf9",
   "metadata": {},
   "outputs": [
    {
     "name": "stdout",
     "output_type": "stream",
     "text": [
      "\n",
      "1009 *** 4"
     ]
    }
   ],
   "source": [
    "(timed-prime-test 1009)"
   ]
  },
  {
   "cell_type": "code",
   "execution_count": 4,
   "id": "d9b3c663",
   "metadata": {},
   "outputs": [
    {
     "name": "stdout",
     "output_type": "stream",
     "text": [
      "\n",
      "1013 *** 3"
     ]
    }
   ],
   "source": [
    "(timed-prime-test 1013)"
   ]
  },
  {
   "cell_type": "code",
   "execution_count": 5,
   "id": "51360f97",
   "metadata": {},
   "outputs": [
    {
     "name": "stdout",
     "output_type": "stream",
     "text": [
      "\n",
      "1019 *** 3"
     ]
    }
   ],
   "source": [
    "(timed-prime-test 1019)"
   ]
  },
  {
   "cell_type": "code",
   "execution_count": 6,
   "id": "8d857ed8",
   "metadata": {},
   "outputs": [
    {
     "name": "stdout",
     "output_type": "stream",
     "text": [
      "\n",
      "10007 *** 3"
     ]
    }
   ],
   "source": [
    "(timed-prime-test 10007)"
   ]
  },
  {
   "cell_type": "code",
   "execution_count": 7,
   "id": "823f54e2",
   "metadata": {},
   "outputs": [
    {
     "name": "stdout",
     "output_type": "stream",
     "text": [
      "\n",
      "10009 *** 14"
     ]
    }
   ],
   "source": [
    "(timed-prime-test 10009)"
   ]
  },
  {
   "cell_type": "code",
   "execution_count": 8,
   "id": "73bb8e6b",
   "metadata": {},
   "outputs": [
    {
     "name": "stdout",
     "output_type": "stream",
     "text": [
      "\n",
      "10037 *** 1"
     ]
    }
   ],
   "source": [
    "(timed-prime-test 10037)"
   ]
  },
  {
   "cell_type": "code",
   "execution_count": 9,
   "id": "7e8e7beb",
   "metadata": {},
   "outputs": [
    {
     "name": "stdout",
     "output_type": "stream",
     "text": [
      "\n",
      "100003 *** 2"
     ]
    }
   ],
   "source": [
    "(timed-prime-test 100003)"
   ]
  },
  {
   "cell_type": "code",
   "execution_count": 10,
   "id": "71cd1ead",
   "metadata": {},
   "outputs": [
    {
     "name": "stdout",
     "output_type": "stream",
     "text": [
      "\n",
      "100019 *** 4"
     ]
    }
   ],
   "source": [
    "(timed-prime-test 100019)"
   ]
  },
  {
   "cell_type": "code",
   "execution_count": 11,
   "id": "3b5d3e90",
   "metadata": {},
   "outputs": [
    {
     "name": "stdout",
     "output_type": "stream",
     "text": [
      "\n",
      "100043 *** 2"
     ]
    }
   ],
   "source": [
    "(timed-prime-test 100043)"
   ]
  },
  {
   "cell_type": "code",
   "execution_count": 12,
   "id": "6bdca5ff",
   "metadata": {},
   "outputs": [
    {
     "name": "stdout",
     "output_type": "stream",
     "text": [
      "\n",
      "1000003 *** 4"
     ]
    }
   ],
   "source": [
    "(timed-prime-test 1000003)"
   ]
  },
  {
   "cell_type": "code",
   "execution_count": 13,
   "id": "e45db06b",
   "metadata": {},
   "outputs": [
    {
     "name": "stdout",
     "output_type": "stream",
     "text": [
      "\n",
      "1000033 *** 4"
     ]
    }
   ],
   "source": [
    "(timed-prime-test 1000033)"
   ]
  },
  {
   "cell_type": "code",
   "execution_count": 14,
   "id": "47cee633",
   "metadata": {},
   "outputs": [
    {
     "name": "stdout",
     "output_type": "stream",
     "text": [
      "\n",
      "1000037 *** 4"
     ]
    }
   ],
   "source": [
    "(timed-prime-test 1000037)"
   ]
  },
  {
   "cell_type": "code",
   "execution_count": 15,
   "id": "7afe2477",
   "metadata": {},
   "outputs": [
    {
     "name": "stdout",
     "output_type": "stream",
     "text": [
      "\n",
      "10000019 *** 10"
     ]
    }
   ],
   "source": [
    "(timed-prime-test 10000019)"
   ]
  },
  {
   "cell_type": "code",
   "execution_count": 16,
   "id": "72fcc88b",
   "metadata": {},
   "outputs": [
    {
     "name": "stdout",
     "output_type": "stream",
     "text": [
      "\n",
      "10000079 *** 11"
     ]
    }
   ],
   "source": [
    "(timed-prime-test 10000079)"
   ]
  },
  {
   "cell_type": "code",
   "execution_count": 17,
   "id": "60cce720",
   "metadata": {},
   "outputs": [
    {
     "name": "stdout",
     "output_type": "stream",
     "text": [
      "\n",
      "10000103 *** 11"
     ]
    }
   ],
   "source": [
    "(timed-prime-test 10000103)"
   ]
  }
 ],
 "metadata": {
  "kernelspec": {
   "display_name": "Racket",
   "language": "racket",
   "name": "racket"
  },
  "language_info": {
   "codemirror_mode": "scheme",
   "file_extension": ".rkt",
   "mimetype": "text/x-racket",
   "name": "racket",
   "pygments_lexer": "racket",
   "version": "8.17"
  }
 },
 "nbformat": 4,
 "nbformat_minor": 5
}
