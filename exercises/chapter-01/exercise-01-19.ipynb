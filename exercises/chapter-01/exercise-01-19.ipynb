{
 "cells": [
  {
   "cell_type": "markdown",
   "id": "8d140e3c",
   "metadata": {},
   "source": [
    "# Exercise 1.19"
   ]
  },
  {
   "cell_type": "code",
   "execution_count": 1,
   "id": "c9d33564",
   "metadata": {},
   "outputs": [],
   "source": [
    "#lang iracket/lang #:require sicp\n",
    "(#%require \"../../libraries/chapter-01.rkt\")"
   ]
  },
  {
   "cell_type": "markdown",
   "id": "ca59f60c",
   "metadata": {},
   "source": [
    "Let $T_{pq}$ be the transformation over a pair $(a, b)$ such that:\n",
    "\n",
    "```math\n",
    "\\begin{align*}\n",
    "\n",
    "a &\\leftarrow bq + aq + ap \\\\[2ex]\n",
    "\n",
    "b &\\leftarrow bp + aq\n",
    "\n",
    "\\end{align*}\n",
    "```\n",
    "\n",
    "Observe, for $T_{pq}^2$, that:\n",
    "\n",
    "```math\n",
    "\\begin{align*}\n",
    "\n",
    "a &\\leftarrow (bp + aq)q + (bq + aq + ap)q + (bq + aq + ap)p \\\\[2ex]\n",
    "\n",
    "&\\leftarrow bpq + aq^2 + bq^2 + aq^2 + apq + bpq + apq + ap^2 \\\\[2ex]\n",
    "\n",
    "&\\leftarrow bq^2 + 2bpq + ap^2 + 2aq^2 + 2apq \\\\[2ex]\n",
    "\n",
    "&\\leftarrow b(q^2 + 2pq) + a(p^2 + 2q^2 + 2pq) \\\\[2ex]\n",
    "\n",
    "&\\leftarrow b(q^2 + 2pq) + a(q^2 + 2pq) + a(p^2 + q^2) \\\\[4ex]\n",
    "\n",
    "b &\\leftarrow (bp + aq)p + (bq + aq + ap)q \\\\[2ex]\n",
    "\n",
    "&\\leftarrow bp^2 + apq + bq^2 + aq^2 + apq \\\\[2ex]\n",
    "\n",
    "&\\leftarrow bp^2 + bq^2 + aq^2 + 2apq \\\\[2ex]\n",
    "\n",
    "&\\leftarrow b(p^2 + q^2) + a(q^2 + 2pq)\n",
    "\n",
    "\\end{align*}\n",
    "```\n",
    "\n",
    "Therefore, $T_{pq}^2 = T_{p'q'}$, where $p'$ and $q'$ are defined as such:\n",
    "\n",
    "```math\n",
    "\\begin{align*}\n",
    "\n",
    "p' &= p^2 + q^2 \\\\[2ex]\n",
    "\n",
    "q' &= q^2 + 2pq\n",
    "\n",
    "\\end{align*}\n",
    "```"
   ]
  },
  {
   "cell_type": "code",
   "execution_count": 2,
   "id": "3986673f",
   "metadata": {},
   "outputs": [],
   "source": [
    "(define (fib n)\n",
    "  (define (iter a b p q n)\n",
    "    (cond ((= n 0) b)\n",
    "          ((even? n) (iter a\n",
    "                           b\n",
    "                           (+ (square p) (square q))\n",
    "                           (+ (square q) (* 2 p q))\n",
    "                           (/ n 2)))\n",
    "          (else (iter (+ (* b q) (* a q) (* a p))\n",
    "                      (+ (* b p) (* a q))\n",
    "                      p\n",
    "                      q\n",
    "                      (- n 1)))))\n",
    "  (iter 1 0 0 1 n))"
   ]
  },
  {
   "cell_type": "code",
   "execution_count": 3,
   "id": "527862e9",
   "metadata": {},
   "outputs": [
    {
     "data": {
      "text/html": [
       "<code>5</code>"
      ],
      "text/plain": [
       "5"
      ]
     },
     "execution_count": 3,
     "metadata": {},
     "output_type": "execute_result"
    }
   ],
   "source": [
    "(fib 5)"
   ]
  },
  {
   "cell_type": "code",
   "execution_count": 4,
   "id": "18225756",
   "metadata": {},
   "outputs": [
    {
     "data": {
      "text/html": [
       "<code>144</code>"
      ],
      "text/plain": [
       "144"
      ]
     },
     "execution_count": 4,
     "metadata": {},
     "output_type": "execute_result"
    }
   ],
   "source": [
    "(fib 12)"
   ]
  },
  {
   "cell_type": "code",
   "execution_count": 5,
   "id": "80b057d8",
   "metadata": {},
   "outputs": [
    {
     "data": {
      "text/html": [
       "<code>1597</code>"
      ],
      "text/plain": [
       "1597"
      ]
     },
     "execution_count": 5,
     "metadata": {},
     "output_type": "execute_result"
    }
   ],
   "source": [
    "(fib 17)"
   ]
  }
 ],
 "metadata": {
  "kernelspec": {
   "display_name": "Racket",
   "language": "racket",
   "name": "racket"
  },
  "language_info": {
   "codemirror_mode": "scheme",
   "file_extension": ".rkt",
   "mimetype": "text/x-racket",
   "name": "racket",
   "pygments_lexer": "racket",
   "version": "8.17"
  }
 },
 "nbformat": 4,
 "nbformat_minor": 5
}
