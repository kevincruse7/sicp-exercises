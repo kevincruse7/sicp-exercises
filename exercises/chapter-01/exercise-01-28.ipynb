{
 "cells": [
  {
   "cell_type": "markdown",
   "id": "30583d2e",
   "metadata": {},
   "source": [
    "# Exercise 1.28"
   ]
  },
  {
   "cell_type": "code",
   "execution_count": 1,
   "id": "5095a2fd",
   "metadata": {},
   "outputs": [],
   "source": [
    "#lang iracket/lang #:require sicp\n",
    "(#%require \"../../libraries/chapter-01.rkt\")"
   ]
  },
  {
   "cell_type": "code",
   "execution_count": 2,
   "id": "22f364e6",
   "metadata": {},
   "outputs": [],
   "source": [
    "(define (expmod base exp m)\n",
    "  (define (square-or-signal a)\n",
    "    (define square-mod-m (remainder (square a) m))\n",
    "    (if (or (= a 1)\n",
    "            (= a (- m 1))\n",
    "            (> square-mod-m 1))\n",
    "        square-mod-m\n",
    "        0))\n",
    "  (cond ((= exp 0) 1)\n",
    "        ((even? exp)\n",
    "         (square-or-signal (expmod base (/ exp 2) m)))\n",
    "        (else\n",
    "         (remainder (* base (expmod base (- exp 1) m))\n",
    "                    m))))\n",
    "\n",
    "(define (miller-rabin-test n)\n",
    "  (define (try-it a)\n",
    "    (= (expmod a (- n 1) n) 1))\n",
    "  (display n)\n",
    "  (display \" *** \")\n",
    "  (display\n",
    "   (if (try-it (+ 1 (random (- n 1))))\n",
    "       \"Test passed!\"\n",
    "       \"Test failed!\"))\n",
    "  (newline))"
   ]
  },
  {
   "cell_type": "code",
   "execution_count": 3,
   "id": "7a56a16a",
   "metadata": {},
   "outputs": [
    {
     "name": "stdout",
     "output_type": "stream",
     "text": [
      "7 *** Test passed!\n"
     ]
    }
   ],
   "source": [
    "(miller-rabin-test 7)"
   ]
  },
  {
   "cell_type": "code",
   "execution_count": 4,
   "id": "314a1846",
   "metadata": {},
   "outputs": [
    {
     "name": "stdout",
     "output_type": "stream",
     "text": [
      "10 *** Test failed!\n"
     ]
    }
   ],
   "source": [
    "(miller-rabin-test 10)"
   ]
  },
  {
   "cell_type": "code",
   "execution_count": 5,
   "id": "a4a23f67",
   "metadata": {},
   "outputs": [
    {
     "name": "stdout",
     "output_type": "stream",
     "text": [
      "561 *** Test failed!\n"
     ]
    }
   ],
   "source": [
    "(miller-rabin-test 561)"
   ]
  }
 ],
 "metadata": {
  "kernelspec": {
   "display_name": "Racket",
   "language": "racket",
   "name": "racket"
  },
  "language_info": {
   "codemirror_mode": "scheme",
   "file_extension": ".rkt",
   "mimetype": "text/x-racket",
   "name": "racket",
   "pygments_lexer": "racket",
   "version": "8.17"
  }
 },
 "nbformat": 4,
 "nbformat_minor": 5
}
