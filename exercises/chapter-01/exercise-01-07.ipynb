{
 "cells": [
  {
   "cell_type": "markdown",
   "id": "147d228b",
   "metadata": {},
   "source": [
    "# Exercise 1.7"
   ]
  },
  {
   "cell_type": "code",
   "execution_count": 1,
   "id": "9b46092f",
   "metadata": {},
   "outputs": [],
   "source": [
    "#lang iracket/lang #:require sicp\n",
    "(#%require \"../../libraries/chapter-01.rkt\")"
   ]
  },
  {
   "cell_type": "markdown",
   "id": "c3d0a9cd",
   "metadata": {},
   "source": [
    "By using a static threshold of `0.001`, the `good-enough?` procedure will prove ineffective for both very small and very\n",
    "large numbers. With very small numbers, the threshold will be too large, producing inaccurate results. E.g.:"
   ]
  },
  {
   "cell_type": "code",
   "execution_count": 2,
   "id": "3da8dc35",
   "metadata": {},
   "outputs": [
    {
     "data": {
      "text/html": [
       "<code>#t</code>"
      ],
      "text/plain": [
       "#t"
      ]
     },
     "execution_count": 2,
     "metadata": {},
     "output_type": "execute_result"
    }
   ],
   "source": [
    "(good-enough? 0.0002 0.00000001)"
   ]
  },
  {
   "cell_type": "markdown",
   "id": "b4ff3ce3",
   "metadata": {},
   "source": [
    "As for very large numbers, since floating point numbers have limited precision, the threshold will be too small. This\n",
    "will result in the procedure rejecting the actual square root of a very large number. E.g.:"
   ]
  },
  {
   "cell_type": "code",
   "execution_count": 3,
   "id": "77596ff3",
   "metadata": {},
   "outputs": [
    {
     "data": {
      "text/html": [
       "<code>#f</code>"
      ],
      "text/plain": [
       "#f"
      ]
     },
     "execution_count": 3,
     "metadata": {},
     "output_type": "execute_result"
    }
   ],
   "source": [
    "(good-enough? 10000000000.1 100000000002000000000.01)"
   ]
  },
  {
   "cell_type": "code",
   "execution_count": 4,
   "id": "9e08d1ce",
   "metadata": {},
   "outputs": [],
   "source": [
    "(define (new-good-enough? guess prev-guess)\n",
    "  (< (/ (abs (- guess prev-guess))\n",
    "        guess)\n",
    "      0.0001))\n",
    "\n",
    "(define (sqrt-iter guess prev-guess x)\n",
    "  (if (new-good-enough? guess prev-guess)\n",
    "      guess\n",
    "      (sqrt-iter (improve guess x)\n",
    "                 guess\n",
    "                 x)))\n",
    "\n",
    "(define (sqrt x)\n",
    "  (sqrt-iter 1.0 x x))"
   ]
  },
  {
   "cell_type": "code",
   "execution_count": 5,
   "id": "8dc4f91e",
   "metadata": {},
   "outputs": [
    {
     "data": {
      "text/html": [
       "<code>2.000000000000002</code>"
      ],
      "text/plain": [
       "2.000000000000002"
      ]
     },
     "execution_count": 5,
     "metadata": {},
     "output_type": "execute_result"
    }
   ],
   "source": [
    "(sqrt 4)"
   ]
  },
  {
   "cell_type": "code",
   "execution_count": 6,
   "id": "88d2fc80",
   "metadata": {},
   "outputs": [
    {
     "data": {
      "text/html": [
       "<code>0.00010000000000082464</code>"
      ],
      "text/plain": [
       "0.00010000000000082464"
      ]
     },
     "execution_count": 6,
     "metadata": {},
     "output_type": "execute_result"
    }
   ],
   "source": [
    "(sqrt 0.00000001)"
   ]
  },
  {
   "cell_type": "code",
   "execution_count": 7,
   "id": "6ca80b42",
   "metadata": {},
   "outputs": [
    {
     "data": {
      "text/html": [
       "<code>10000000000.12308</code>"
      ],
      "text/plain": [
       "10000000000.12308"
      ]
     },
     "execution_count": 7,
     "metadata": {},
     "output_type": "execute_result"
    }
   ],
   "source": [
    "(sqrt 100000000002000000000.01)"
   ]
  }
 ],
 "metadata": {
  "kernelspec": {
   "display_name": "Racket",
   "language": "racket",
   "name": "racket"
  },
  "language_info": {
   "codemirror_mode": "scheme",
   "file_extension": ".rkt",
   "mimetype": "text/x-racket",
   "name": "racket",
   "pygments_lexer": "racket",
   "version": "8.17"
  }
 },
 "nbformat": 4,
 "nbformat_minor": 5
}
