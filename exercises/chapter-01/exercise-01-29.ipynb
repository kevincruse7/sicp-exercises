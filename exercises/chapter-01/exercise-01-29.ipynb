{
 "cells": [
  {
   "cell_type": "markdown",
   "id": "c5aa3895",
   "metadata": {},
   "source": [
    "# Exercise 1.29"
   ]
  },
  {
   "cell_type": "code",
   "execution_count": 1,
   "id": "aad08e63",
   "metadata": {
    "vscode": {
     "languageId": "racket"
    }
   },
   "outputs": [],
   "source": [
    "#lang iracket/lang #:require sicp\n",
    "(#%require \"../../libraries/chapter-01.rkt\")"
   ]
  },
  {
   "cell_type": "code",
   "execution_count": 2,
   "id": "7153d2dd",
   "metadata": {
    "vscode": {
     "languageId": "racket"
    }
   },
   "outputs": [],
   "source": [
    "(define (simpson f a b n)\n",
    "  (define h (/ (- b a) n))\n",
    "  (define (term k)\n",
    "    (* (cond ((or (= k 0) (= k n)) 1.0)\n",
    "             ((even? k) 2.0)\n",
    "             (else 4.0))\n",
    "       (f (+ a (* k h)))))\n",
    "  (* (/ h 3.0) (sum term 0 inc n)))"
   ]
  },
  {
   "cell_type": "code",
   "execution_count": 3,
   "id": "f5cea40a",
   "metadata": {
    "vscode": {
     "languageId": "racket"
    }
   },
   "outputs": [
    {
     "data": {
      "text/html": [
       "<code>0.24998750000000042</code>"
      ],
      "text/plain": [
       "0.24998750000000042"
      ]
     },
     "execution_count": 3,
     "metadata": {},
     "output_type": "execute_result"
    }
   ],
   "source": [
    "(integral cube 0 1 0.01)"
   ]
  },
  {
   "cell_type": "code",
   "execution_count": 4,
   "id": "17c9d8c2",
   "metadata": {
    "vscode": {
     "languageId": "racket"
    }
   },
   "outputs": [
    {
     "data": {
      "text/html": [
       "<code>0.249999875000001</code>"
      ],
      "text/plain": [
       "0.249999875000001"
      ]
     },
     "execution_count": 4,
     "metadata": {},
     "output_type": "execute_result"
    }
   ],
   "source": [
    "(integral cube 0 1 0.001)"
   ]
  },
  {
   "cell_type": "code",
   "execution_count": 5,
   "id": "1a9989f4",
   "metadata": {
    "vscode": {
     "languageId": "racket"
    }
   },
   "outputs": [
    {
     "data": {
      "text/html": [
       "<code>0.24999999999999992</code>"
      ],
      "text/plain": [
       "0.24999999999999992"
      ]
     },
     "execution_count": 5,
     "metadata": {},
     "output_type": "execute_result"
    }
   ],
   "source": [
    "(simpson cube 0 1 100)"
   ]
  },
  {
   "cell_type": "code",
   "execution_count": 6,
   "id": "4e4ef145",
   "metadata": {
    "vscode": {
     "languageId": "racket"
    }
   },
   "outputs": [
    {
     "data": {
      "text/html": [
       "<code>0.2500000000000002</code>"
      ],
      "text/plain": [
       "0.2500000000000002"
      ]
     },
     "execution_count": 6,
     "metadata": {},
     "output_type": "execute_result"
    }
   ],
   "source": [
    "(simpson cube 0 1 1000)"
   ]
  }
 ],
 "metadata": {
  "kernelspec": {
   "display_name": "Racket",
   "language": "racket",
   "name": "racket"
  },
  "language_info": {
   "codemirror_mode": "scheme",
   "file_extension": ".rkt",
   "mimetype": "text/x-racket",
   "name": "Racket",
   "pygments_lexer": "racket",
   "version": "8.17"
  }
 },
 "nbformat": 4,
 "nbformat_minor": 5
}
