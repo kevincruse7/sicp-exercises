{
 "cells": [
  {
   "cell_type": "markdown",
   "id": "70991526",
   "metadata": {},
   "source": [
    "# Exercise 1.36"
   ]
  },
  {
   "cell_type": "code",
   "execution_count": 1,
   "id": "912626a0",
   "metadata": {},
   "outputs": [],
   "source": [
    "#lang iracket/lang #:require sicp\n",
    "(#%require \"../../libraries/chapter-01.rkt\")"
   ]
  },
  {
   "cell_type": "code",
   "execution_count": 2,
   "id": "746b4f11",
   "metadata": {},
   "outputs": [],
   "source": [
    "(define (fixed-point f first-guess)\n",
    "  (define tolerance 0.00001)\n",
    "  (define (close-enough? v1 v2)\n",
    "    (< (abs (- v1 v2)) tolerance))\n",
    "  (define (try guess)\n",
    "    (display guess)\n",
    "    (newline)\n",
    "    (let ((next (f guess)))\n",
    "      (if (close-enough? guess next)\n",
    "          next\n",
    "          (try next))))\n",
    "  (try first-guess))"
   ]
  },
  {
   "cell_type": "code",
   "execution_count": 3,
   "id": "6c34e2b8",
   "metadata": {},
   "outputs": [
    {
     "name": "stdout",
     "output_type": "stream",
     "text": [
      "2.0\n",
      "9.965784284662087\n",
      "3.004472209841214\n",
      "6.279195757507157\n",
      "3.759850702401539\n",
      "5.215843784925895\n",
      "4.182207192401397\n",
      "4.8277650983445906\n",
      "4.387593384662677\n",
      "4.671250085763899\n",
      "4.481403616895052\n",
      "4.6053657460929\n",
      "4.5230849678718865\n",
      "4.577114682047341\n",
      "4.541382480151454\n",
      "4.564903245230833\n",
      "4.549372679303342\n",
      "4.559606491913287\n",
      "4.552853875788271\n",
      "4.557305529748263\n",
      "4.554369064436181\n",
      "4.556305311532999\n",
      "4.555028263573554\n",
      "4.555870396702851\n",
      "4.555315001192079\n",
      "4.5556812635433275\n",
      "4.555439715736846\n",
      "4.555599009998291\n",
      "4.555493957531389\n",
      "4.555563237292884\n",
      "4.555517548417651\n",
      "4.555547679306398\n",
      "4.555527808516254\n",
      "4.555540912917957\n"
     ]
    },
    {
     "data": {
      "text/html": [
       "<code>4.555532270803653</code>"
      ],
      "text/plain": [
       "4.555532270803653"
      ]
     },
     "execution_count": 3,
     "metadata": {},
     "output_type": "execute_result"
    }
   ],
   "source": [
    "(fixed-point (lambda (x)\n",
    "               (/ (log 1000)\n",
    "                  (log x)))\n",
    "             2.0)"
   ]
  },
  {
   "cell_type": "code",
   "execution_count": 4,
   "id": "bafcbb12",
   "metadata": {},
   "outputs": [
    {
     "name": "stdout",
     "output_type": "stream",
     "text": [
      "2.0\n",
      "5.9828921423310435\n",
      "4.922168721308343\n",
      "4.628224318195455\n",
      "4.568346513136242\n",
      "4.5577305909237005\n",
      "4.555909809045131\n",
      "4.555599411610624\n",
      "4.5555465521473675\n"
     ]
    },
    {
     "data": {
      "text/html": [
       "<code>4.555537551999825</code>"
      ],
      "text/plain": [
       "4.555537551999825"
      ]
     },
     "execution_count": 4,
     "metadata": {},
     "output_type": "execute_result"
    }
   ],
   "source": [
    "(fixed-point (lambda (x)\n",
    "               (average x\n",
    "                        (/ (log 1000)\n",
    "                           (log x))))\n",
    "             2.0)"
   ]
  }
 ],
 "metadata": {
  "kernelspec": {
   "display_name": "Racket",
   "language": "racket",
   "name": "racket"
  },
  "language_info": {
   "codemirror_mode": "scheme",
   "file_extension": ".rkt",
   "mimetype": "text/x-racket",
   "name": "racket",
   "pygments_lexer": "racket",
   "version": "8.17"
  }
 },
 "nbformat": 4,
 "nbformat_minor": 5
}
