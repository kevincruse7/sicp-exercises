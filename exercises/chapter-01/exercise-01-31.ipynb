{
 "cells": [
  {
   "cell_type": "markdown",
   "id": "369b2f85",
   "metadata": {},
   "source": [
    "# Exercise 1.31"
   ]
  },
  {
   "cell_type": "code",
   "execution_count": 1,
   "id": "e3d540af",
   "metadata": {},
   "outputs": [],
   "source": [
    "#lang iracket/lang #:require sicp\n",
    "(#%require \"../../libraries/chapter-01.rkt\")"
   ]
  },
  {
   "cell_type": "code",
   "execution_count": 2,
   "id": "1dd3d865",
   "metadata": {},
   "outputs": [],
   "source": [
    "(define (product term a next b)\n",
    "  (if (> a b)\n",
    "      1\n",
    "      (* (term a)\n",
    "         (product term\n",
    "                  (next a)\n",
    "                  next\n",
    "                  b))))\n",
    "\n",
    "(define (factorial n)\n",
    "  (product identity 1 inc n))"
   ]
  },
  {
   "cell_type": "code",
   "execution_count": 3,
   "id": "00d05581",
   "metadata": {},
   "outputs": [
    {
     "data": {
      "text/html": [
       "<code>120</code>"
      ],
      "text/plain": [
       "120"
      ]
     },
     "execution_count": 3,
     "metadata": {},
     "output_type": "execute_result"
    }
   ],
   "source": [
    "(factorial 5)"
   ]
  },
  {
   "cell_type": "code",
   "execution_count": 4,
   "id": "a3151807",
   "metadata": {},
   "outputs": [],
   "source": [
    "(define (pi-approx n)\n",
    "  (define (term a)\n",
    "    (if (odd? a)\n",
    "        (/ (+ a 1.0)\n",
    "           (+ a 2.0))\n",
    "        (/ (+ a 2.0)\n",
    "           (+ a 1.0))))\n",
    "  (* 4.0\n",
    "     (product term 1 inc n)))"
   ]
  },
  {
   "cell_type": "code",
   "execution_count": 5,
   "id": "3fee2618",
   "metadata": {},
   "outputs": [
    {
     "data": {
      "text/html": [
       "<code>3.1570301764551645</code>"
      ],
      "text/plain": [
       "3.1570301764551645"
      ]
     },
     "execution_count": 5,
     "metadata": {},
     "output_type": "execute_result"
    }
   ],
   "source": [
    "(pi-approx 100)"
   ]
  },
  {
   "cell_type": "code",
   "execution_count": 6,
   "id": "4de38141",
   "metadata": {},
   "outputs": [],
   "source": [
    "(define (product-iter term a next b)\n",
    "  (define (iter a result)\n",
    "    (if (> a b)\n",
    "        result\n",
    "        (iter (next a)\n",
    "              (* (term a)\n",
    "                 result))))\n",
    "  (iter a 1))"
   ]
  },
  {
   "cell_type": "code",
   "execution_count": 7,
   "id": "785f9b29",
   "metadata": {},
   "outputs": [
    {
     "data": {
      "text/html": [
       "<code>120</code>"
      ],
      "text/plain": [
       "120"
      ]
     },
     "execution_count": 7,
     "metadata": {},
     "output_type": "execute_result"
    }
   ],
   "source": [
    "(product-iter identity 1 inc 5)"
   ]
  }
 ],
 "metadata": {
  "kernelspec": {
   "display_name": "Racket",
   "language": "racket",
   "name": "racket"
  },
  "language_info": {
   "codemirror_mode": "scheme",
   "file_extension": ".rkt",
   "mimetype": "text/x-racket",
   "name": "racket",
   "pygments_lexer": "racket",
   "version": "8.17"
  }
 },
 "nbformat": 4,
 "nbformat_minor": 5
}
