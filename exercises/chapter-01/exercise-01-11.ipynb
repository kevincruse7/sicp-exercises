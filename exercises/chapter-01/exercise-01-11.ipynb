{
 "cells": [
  {
   "cell_type": "markdown",
   "id": "faabc98c",
   "metadata": {},
   "source": [
    "# Exercise 1.11"
   ]
  },
  {
   "cell_type": "code",
   "execution_count": 1,
   "id": "7e883823",
   "metadata": {},
   "outputs": [],
   "source": [
    "#lang iracket/lang #:require sicp\n",
    "(#%require \"../../libraries/chapter-01.rkt\")"
   ]
  },
  {
   "cell_type": "code",
   "execution_count": 2,
   "id": "03448921",
   "metadata": {},
   "outputs": [],
   "source": [
    "(define (f-rec n)\n",
    "  (if (< n 3)\n",
    "      n\n",
    "      (+ (f-rec (- n 1))\n",
    "         (* 2 (f-rec (- n 2)))\n",
    "         (* 3 (f-rec (- n 3))))))"
   ]
  },
  {
   "cell_type": "code",
   "execution_count": 3,
   "id": "7f1e6cf6",
   "metadata": {},
   "outputs": [
    {
     "data": {
      "text/html": [
       "<code>61354575194</code>"
      ],
      "text/plain": [
       "61354575194"
      ]
     },
     "execution_count": 3,
     "metadata": {},
     "output_type": "execute_result"
    }
   ],
   "source": [
    "(f-rec 30)"
   ]
  },
  {
   "cell_type": "code",
   "execution_count": 4,
   "id": "9ae68a82",
   "metadata": {},
   "outputs": [],
   "source": [
    "(define (f-iter n)\n",
    "  (define (iter i prev1 prev2 prev3)\n",
    "    (if (> i n)\n",
    "        prev1\n",
    "        (iter (inc i)\n",
    "              (+ prev1\n",
    "                 (* 2 prev2)\n",
    "                 (* 3 prev3))\n",
    "              prev1\n",
    "              prev2)))\n",
    "  (if (< n 3)\n",
    "      n\n",
    "      (iter 3 2 1 0)))"
   ]
  },
  {
   "cell_type": "code",
   "execution_count": 5,
   "id": "fee0f874",
   "metadata": {},
   "outputs": [
    {
     "data": {
      "text/html": [
       "<code>61354575194</code>"
      ],
      "text/plain": [
       "61354575194"
      ]
     },
     "execution_count": 5,
     "metadata": {},
     "output_type": "execute_result"
    }
   ],
   "source": [
    "(f-iter 30)"
   ]
  }
 ],
 "metadata": {
  "kernelspec": {
   "display_name": "Racket",
   "language": "racket",
   "name": "racket"
  },
  "language_info": {
   "codemirror_mode": "scheme",
   "file_extension": ".rkt",
   "mimetype": "text/x-racket",
   "name": "racket",
   "pygments_lexer": "racket",
   "version": "8.17"
  }
 },
 "nbformat": 4,
 "nbformat_minor": 5
}
