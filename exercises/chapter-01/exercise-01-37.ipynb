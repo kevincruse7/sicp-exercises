{
 "cells": [
  {
   "cell_type": "markdown",
   "id": "65537bfd",
   "metadata": {},
   "source": [
    "# Exercise 1.37"
   ]
  },
  {
   "cell_type": "code",
   "execution_count": 1,
   "id": "c1f01564",
   "metadata": {},
   "outputs": [],
   "source": [
    "#lang iracket/lang #:require sicp\n",
    "(#%require \"../../libraries/chapter-01.rkt\")"
   ]
  },
  {
   "cell_type": "code",
   "execution_count": 2,
   "id": "4a858e22",
   "metadata": {},
   "outputs": [],
   "source": [
    "(define (cont-frac n d k)\n",
    "  (define (helper i)\n",
    "    (if (> i k)\n",
    "        0\n",
    "        (/ (n i)\n",
    "           (+ (d i)\n",
    "              (helper (+ i 1))))))\n",
    "  (helper 1))"
   ]
  },
  {
   "cell_type": "code",
   "execution_count": 3,
   "id": "2780f037",
   "metadata": {},
   "outputs": [
    {
     "data": {
      "text/html": [
       "<code>0.6179775280898876</code>"
      ],
      "text/plain": [
       "0.6179775280898876"
      ]
     },
     "execution_count": 3,
     "metadata": {},
     "output_type": "execute_result"
    }
   ],
   "source": [
    "(cont-frac (lambda (_i) 1.0)\n",
    "           (lambda (_i) 1.0)\n",
    "           10)"
   ]
  },
  {
   "cell_type": "code",
   "execution_count": 4,
   "id": "25663ad1",
   "metadata": {},
   "outputs": [
    {
     "data": {
      "text/html": [
       "<code>0.6180555555555556</code>"
      ],
      "text/plain": [
       "0.6180555555555556"
      ]
     },
     "execution_count": 4,
     "metadata": {},
     "output_type": "execute_result"
    }
   ],
   "source": [
    "(cont-frac (lambda (_i) 1.0)\n",
    "           (lambda (_i) 1.0)\n",
    "           11)"
   ]
  },
  {
   "cell_type": "code",
   "execution_count": 5,
   "id": "3add2728",
   "metadata": {},
   "outputs": [],
   "source": [
    "(define (cont-frac-iter n d k)\n",
    "  (define (iter i result)\n",
    "    (if (= i 0)\n",
    "        result\n",
    "        (iter (- i 1)\n",
    "              (/ (n i)\n",
    "                 (+ (d i) result)))))\n",
    "  (iter k 0))"
   ]
  },
  {
   "cell_type": "code",
   "execution_count": 6,
   "id": "17876385",
   "metadata": {},
   "outputs": [
    {
     "data": {
      "text/html": [
       "<code>0.6180555555555556</code>"
      ],
      "text/plain": [
       "0.6180555555555556"
      ]
     },
     "execution_count": 6,
     "metadata": {},
     "output_type": "execute_result"
    }
   ],
   "source": [
    "(cont-frac-iter (lambda (_i) 1.0)\n",
    "                (lambda (_i) 1.0)\n",
    "                11)"
   ]
  }
 ],
 "metadata": {
  "kernelspec": {
   "display_name": "Racket",
   "language": "racket",
   "name": "racket"
  },
  "language_info": {
   "codemirror_mode": "scheme",
   "file_extension": ".rkt",
   "mimetype": "text/x-racket",
   "name": "racket",
   "pygments_lexer": "racket",
   "version": "8.17"
  }
 },
 "nbformat": 4,
 "nbformat_minor": 5
}
