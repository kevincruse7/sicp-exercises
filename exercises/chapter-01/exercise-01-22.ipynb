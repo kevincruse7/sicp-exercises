{
 "cells": [
  {
   "cell_type": "markdown",
   "id": "622d697b",
   "metadata": {},
   "source": [
    "# Exercise 1.22"
   ]
  },
  {
   "cell_type": "code",
   "execution_count": 1,
   "id": "2b9f7ed5",
   "metadata": {},
   "outputs": [],
   "source": [
    "#lang iracket/lang #:require sicp\n",
    "(#%require \"../../libraries/chapter-01.rkt\")"
   ]
  },
  {
   "cell_type": "code",
   "execution_count": 2,
   "id": "a2f4699e",
   "metadata": {},
   "outputs": [],
   "source": [
    "(define (timed-prime-test n)\n",
    "  (newline)\n",
    "  (display n)\n",
    "  (start-prime-test n (runtime)))\n",
    "\n",
    "(define (start-prime-test n start-time)\n",
    "  (if (prime? n)\n",
    "      (report-prime (- (runtime) start-time))\n",
    "      false))\n",
    "\n",
    "(define (report-prime elapsed-time)\n",
    "  (display \" *** \")\n",
    "  (display elapsed-time))\n",
    "\n",
    "(define (search-for-primes start num)\n",
    "  (define (search-for-primes-helper start num)\n",
    "    (cond ((= num 0)\n",
    "           (newline)\n",
    "           (display \"Done!\")\n",
    "           (newline))\n",
    "          (else (search-for-primes-helper (+ start 2)\n",
    "                                          (if (timed-prime-test start)\n",
    "                                              (- num 1)\n",
    "                                              num)))))\n",
    "  (display \"Searching for primes...\")\n",
    "  (search-for-primes-helper (if (even? start)\n",
    "                                (+ start 1)\n",
    "                                start)\n",
    "                            num))"
   ]
  },
  {
   "cell_type": "code",
   "execution_count": 3,
   "id": "f72160e4",
   "metadata": {},
   "outputs": [
    {
     "name": "stdout",
     "output_type": "stream",
     "text": [
      "Searching for primes...\n",
      "1001\n",
      "1003\n",
      "1005\n",
      "1007\n",
      "1009 *** 0\n",
      "1011\n",
      "1013 *** 1\n",
      "1015\n",
      "1017\n",
      "1019 *** 1\n",
      "Done!\n"
     ]
    }
   ],
   "source": [
    "(search-for-primes 1000 3)"
   ]
  },
  {
   "cell_type": "code",
   "execution_count": 4,
   "id": "0a6c1647",
   "metadata": {},
   "outputs": [
    {
     "name": "stdout",
     "output_type": "stream",
     "text": [
      "Searching for primes...\n",
      "10001\n",
      "10003\n",
      "10005\n",
      "10007 *** 1\n",
      "10009 *** 1\n",
      "10011\n",
      "10013\n",
      "10015\n",
      "10017\n",
      "10019\n",
      "10021\n",
      "10023\n",
      "10025\n",
      "10027\n",
      "10029\n",
      "10031\n",
      "10033\n",
      "10035\n",
      "10037 *** 1\n",
      "Done!\n"
     ]
    }
   ],
   "source": [
    "(search-for-primes 10000 3)"
   ]
  },
  {
   "cell_type": "code",
   "execution_count": 5,
   "id": "7ead1732",
   "metadata": {},
   "outputs": [
    {
     "name": "stdout",
     "output_type": "stream",
     "text": [
      "Searching for primes...\n",
      "100001\n",
      "100003 *** 1\n",
      "100005\n",
      "100007\n",
      "100009\n",
      "100011\n",
      "100013\n",
      "100015\n",
      "100017\n",
      "100019 *** 1\n",
      "100021\n",
      "100023\n",
      "100025\n",
      "100027\n",
      "100029\n",
      "100031\n",
      "100033\n",
      "100035\n",
      "100037\n",
      "100039\n",
      "100041\n",
      "100043 *** 2\n",
      "Done!\n"
     ]
    }
   ],
   "source": [
    "(search-for-primes 100000 3)"
   ]
  },
  {
   "cell_type": "code",
   "execution_count": 6,
   "id": "0280bcac",
   "metadata": {},
   "outputs": [
    {
     "name": "stdout",
     "output_type": "stream",
     "text": [
      "Searching for primes...\n",
      "1000001\n",
      "1000003 *** 3\n",
      "1000005\n",
      "1000007\n",
      "1000009\n",
      "1000011\n",
      "1000013\n",
      "1000015\n",
      "1000017\n",
      "1000019\n",
      "1000021\n",
      "1000023\n",
      "1000025\n",
      "1000027\n",
      "1000029\n",
      "1000031\n",
      "1000033 *** 3\n",
      "1000035\n",
      "1000037 *** 3\n",
      "Done!\n"
     ]
    }
   ],
   "source": [
    "(search-for-primes 1000000 3)"
   ]
  },
  {
   "cell_type": "code",
   "execution_count": 7,
   "id": "5bc07c68",
   "metadata": {},
   "outputs": [
    {
     "name": "stdout",
     "output_type": "stream",
     "text": [
      "Searching for primes...\n",
      "10000001\n",
      "10000003\n",
      "10000005\n",
      "10000007\n",
      "10000009\n",
      "10000011\n",
      "10000013\n",
      "10000015\n",
      "10000017\n",
      "10000019 *** 10\n",
      "10000021\n",
      "10000023\n",
      "10000025\n",
      "10000027\n",
      "10000029\n",
      "10000031\n",
      "10000033\n",
      "10000035\n",
      "10000037\n",
      "10000039\n",
      "10000041\n",
      "10000043\n",
      "10000045\n",
      "10000047\n",
      "10000049\n",
      "10000051\n",
      "10000053\n",
      "10000055\n",
      "10000057\n",
      "10000059\n",
      "10000061\n",
      "10000063\n",
      "10000065\n",
      "10000067\n",
      "10000069\n",
      "10000071\n",
      "10000073\n",
      "10000075\n",
      "10000077\n",
      "10000079 *** 38\n",
      "10000081\n",
      "10000083\n",
      "10000085\n",
      "10000087\n",
      "10000089\n",
      "10000091\n",
      "10000093\n",
      "10000095\n",
      "10000097\n",
      "10000099\n",
      "10000101\n",
      "10000103 *** 11\n",
      "Done!\n"
     ]
    }
   ],
   "source": [
    "(search-for-primes 10000000 3)"
   ]
  }
 ],
 "metadata": {
  "kernelspec": {
   "display_name": "Racket",
   "language": "racket",
   "name": "racket"
  },
  "language_info": {
   "codemirror_mode": "scheme",
   "file_extension": ".rkt",
   "mimetype": "text/x-racket",
   "name": "racket",
   "pygments_lexer": "racket",
   "version": "8.17"
  }
 },
 "nbformat": 4,
 "nbformat_minor": 5
}
