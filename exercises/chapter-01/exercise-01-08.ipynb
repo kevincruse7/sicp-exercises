{
 "cells": [
  {
   "cell_type": "markdown",
   "id": "440bdeb5",
   "metadata": {},
   "source": [
    "# Exercise 1.8"
   ]
  },
  {
   "cell_type": "code",
   "execution_count": 1,
   "id": "690e78df",
   "metadata": {},
   "outputs": [],
   "source": [
    "#lang iracket/lang #:require sicp\n",
    "(#%require \"../../libraries/chapter-01.rkt\")"
   ]
  },
  {
   "cell_type": "code",
   "execution_count": 2,
   "id": "d2586071",
   "metadata": {},
   "outputs": [],
   "source": [
    "(define (good-enough? guess prev-guess)\n",
    "  (< (/ (abs (- guess prev-guess))\n",
    "        guess)\n",
    "     0.0001))\n",
    "\n",
    "(define (improve guess x)\n",
    "  (/ (+ (/ x (square guess))\n",
    "        (* 2 guess))\n",
    "     3))\n",
    "\n",
    "(define (cube-root-iter guess prev-guess x)\n",
    "  (if (good-enough? guess prev-guess)\n",
    "      guess\n",
    "      (cube-root-iter (improve guess x)\n",
    "                      guess\n",
    "                      x)))\n",
    "\n",
    "(define (cube-root x)\n",
    "  (cube-root-iter 1.0 x x))"
   ]
  },
  {
   "cell_type": "code",
   "execution_count": 3,
   "id": "2ac47997",
   "metadata": {},
   "outputs": [
    {
     "data": {
      "text/html": [
       "<code>3.0000000000000977</code>"
      ],
      "text/plain": [
       "3.0000000000000977"
      ]
     },
     "execution_count": 3,
     "metadata": {},
     "output_type": "execute_result"
    }
   ],
   "source": [
    "(cube-root 27)"
   ]
  },
  {
   "cell_type": "code",
   "execution_count": 4,
   "id": "0d2bf5d0",
   "metadata": {},
   "outputs": [
    {
     "data": {
      "text/html": [
       "<code>1.5000000000008251</code>"
      ],
      "text/plain": [
       "1.5000000000008251"
      ]
     },
     "execution_count": 4,
     "metadata": {},
     "output_type": "execute_result"
    }
   ],
   "source": [
    "(cube-root 3.375)"
   ]
  },
  {
   "cell_type": "code",
   "execution_count": 5,
   "id": "dd757125",
   "metadata": {},
   "outputs": [
    {
     "data": {
      "text/html": [
       "<code>100.00000000005313</code>"
      ],
      "text/plain": [
       "100.00000000005313"
      ]
     },
     "execution_count": 5,
     "metadata": {},
     "output_type": "execute_result"
    }
   ],
   "source": [
    "(cube-root 1000000)"
   ]
  }
 ],
 "metadata": {
  "kernelspec": {
   "display_name": "Racket",
   "language": "racket",
   "name": "racket"
  },
  "language_info": {
   "codemirror_mode": "scheme",
   "file_extension": ".rkt",
   "mimetype": "text/x-racket",
   "name": "racket",
   "pygments_lexer": "racket",
   "version": "8.17"
  }
 },
 "nbformat": 4,
 "nbformat_minor": 5
}
