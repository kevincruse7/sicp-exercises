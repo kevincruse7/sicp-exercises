{
 "cells": [
  {
   "cell_type": "markdown",
   "id": "64f8ed14",
   "metadata": {},
   "source": [
    "# Exercise 1.5"
   ]
  },
  {
   "cell_type": "code",
   "execution_count": 1,
   "id": "1018f1d7",
   "metadata": {},
   "outputs": [],
   "source": [
    "#lang iracket/lang #:require sicp\n",
    "(#%require \"../../libraries/chapter-01.rkt\")"
   ]
  },
  {
   "cell_type": "code",
   "execution_count": 2,
   "id": "47cee299",
   "metadata": {},
   "outputs": [],
   "source": [
    "(define (p) (p))\n",
    "\n",
    "(define (test x y)\n",
    "  (if (= x 0)\n",
    "      0\n",
    "      y))"
   ]
  },
  {
   "cell_type": "code",
   "execution_count": 3,
   "id": "9a26c0d9",
   "metadata": {},
   "outputs": [
    {
     "name": "stderr",
     "output_type": "stream",
     "text": [
      "user break\n",
      "  context...:\n",
      "   body of top-level\n"
     ]
    }
   ],
   "source": [
    "(test 0 (p))"
   ]
  },
  {
   "cell_type": "markdown",
   "id": "b7b7da3c",
   "metadata": {},
   "source": [
    "With an applicative-order interpreter, this expression recurses indefinitely, as the interpreter attempts to evaluate\n",
    "the infintely recursive expression `(p)` before passing it as a parameter to the test procedure. With a normal-order\n",
    "interpreter, the program would immediately return `0`, as the operands for the test procedure are not evaluated until\n",
    "needed. Since `x` is `0`, the `y` parameter is not needed and thus does not get evaluated."
   ]
  }
 ],
 "metadata": {
  "kernelspec": {
   "display_name": "Racket",
   "language": "racket",
   "name": "racket"
  },
  "language_info": {
   "codemirror_mode": "scheme",
   "file_extension": ".rkt",
   "mimetype": "text/x-racket",
   "name": "racket",
   "pygments_lexer": "racket",
   "version": "8.17"
  }
 },
 "nbformat": 4,
 "nbformat_minor": 5
}
