{
 "cells": [
  {
   "cell_type": "markdown",
   "id": "0b1a2e2d",
   "metadata": {},
   "source": [
    "# Exercise 1.32"
   ]
  },
  {
   "cell_type": "code",
   "execution_count": 1,
   "id": "5c68af5f",
   "metadata": {
    "vscode": {
     "languageId": "racket"
    }
   },
   "outputs": [],
   "source": [
    "#lang iracket/lang #:require sicp\n",
    "(#%require \"../../libraries/chapter-01.rkt\")"
   ]
  },
  {
   "cell_type": "code",
   "execution_count": 2,
   "id": "f695df6f",
   "metadata": {
    "vscode": {
     "languageId": "racket"
    }
   },
   "outputs": [],
   "source": [
    "(define (accumulate combiner null-value term a next b)\n",
    "  (if (> a b)\n",
    "      null-value\n",
    "      (combiner (term a)\n",
    "                (accumulate combiner\n",
    "                            null-value\n",
    "                            term\n",
    "                            (next a)\n",
    "                            next\n",
    "                            b))))\n",
    "\n",
    "(define (sum term a next b)\n",
    "  (accumulate + 0 term a next b))"
   ]
  },
  {
   "cell_type": "code",
   "execution_count": 3,
   "id": "1e203cb4",
   "metadata": {
    "vscode": {
     "languageId": "racket"
    }
   },
   "outputs": [
    {
     "data": {
      "text/html": [
       "<code>55</code>"
      ],
      "text/plain": [
       "55"
      ]
     },
     "execution_count": 3,
     "metadata": {},
     "output_type": "execute_result"
    }
   ],
   "source": [
    "(sum identity 1 inc 10)"
   ]
  },
  {
   "cell_type": "code",
   "execution_count": 4,
   "id": "221b5129",
   "metadata": {
    "vscode": {
     "languageId": "racket"
    }
   },
   "outputs": [],
   "source": [
    "(define (product term a next b)\n",
    "  (accumulate * 1 term a next b))"
   ]
  },
  {
   "cell_type": "code",
   "execution_count": 5,
   "id": "8671b954",
   "metadata": {
    "vscode": {
     "languageId": "racket"
    }
   },
   "outputs": [
    {
     "data": {
      "text/html": [
       "<code>120</code>"
      ],
      "text/plain": [
       "120"
      ]
     },
     "execution_count": 5,
     "metadata": {},
     "output_type": "execute_result"
    }
   ],
   "source": [
    "(product identity 1 inc 5)"
   ]
  },
  {
   "cell_type": "code",
   "execution_count": 6,
   "id": "f21faf4e",
   "metadata": {
    "vscode": {
     "languageId": "racket"
    }
   },
   "outputs": [],
   "source": [
    "(define (accumulate-iter combiner null-value term a next b)\n",
    "  (define (iter a result)\n",
    "    (if (> a b)\n",
    "        result\n",
    "        (iter (next a)\n",
    "              (combiner (term a)\n",
    "                        result))))\n",
    "  (iter a null-value))"
   ]
  },
  {
   "cell_type": "code",
   "execution_count": 7,
   "id": "891e4a84",
   "metadata": {
    "vscode": {
     "languageId": "racket"
    }
   },
   "outputs": [
    {
     "data": {
      "text/html": [
       "<code>55</code>"
      ],
      "text/plain": [
       "55"
      ]
     },
     "execution_count": 7,
     "metadata": {},
     "output_type": "execute_result"
    }
   ],
   "source": [
    "(accumulate-iter + 0 identity 1 inc 10)"
   ]
  },
  {
   "cell_type": "code",
   "execution_count": 8,
   "id": "35d18963",
   "metadata": {
    "vscode": {
     "languageId": "racket"
    }
   },
   "outputs": [
    {
     "data": {
      "text/html": [
       "<code>120</code>"
      ],
      "text/plain": [
       "120"
      ]
     },
     "execution_count": 8,
     "metadata": {},
     "output_type": "execute_result"
    }
   ],
   "source": [
    "(accumulate-iter * 1 identity 1 inc 5)"
   ]
  }
 ],
 "metadata": {
  "kernelspec": {
   "display_name": "Racket",
   "language": "racket",
   "name": "racket"
  },
  "language_info": {
   "codemirror_mode": "scheme",
   "file_extension": ".rkt",
   "mimetype": "text/x-racket",
   "name": "Racket",
   "pygments_lexer": "racket",
   "version": "8.17"
  }
 },
 "nbformat": 4,
 "nbformat_minor": 5
}
