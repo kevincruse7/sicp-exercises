{
 "cells": [
  {
   "cell_type": "markdown",
   "id": "bec1b237",
   "metadata": {},
   "source": [
    "# Exercise 1.27"
   ]
  },
  {
   "cell_type": "code",
   "execution_count": 1,
   "id": "7bd5c80f",
   "metadata": {
    "vscode": {
     "languageId": "racket"
    }
   },
   "outputs": [],
   "source": [
    "#lang iracket/lang #:require sicp\n",
    "(#%require \"../../libraries/chapter-01.rkt\")"
   ]
  },
  {
   "cell_type": "code",
   "execution_count": 2,
   "id": "b6fa11a9",
   "metadata": {
    "vscode": {
     "languageId": "racket"
    }
   },
   "outputs": [],
   "source": [
    "(define (carmichael-test n)\n",
    "  (define (carmichael-test-helper a)\n",
    "    (cond ((>= a n) (display \"Test passed!\"))\n",
    "          ((= (expmod a n n) a) (carmichael-test-helper (inc a)))\n",
    "          (else (display \"Test failed!\"))))\n",
    "  (display n)\n",
    "  (display \" *** \")\n",
    "  (carmichael-test-helper 2)\n",
    "  (newline))"
   ]
  },
  {
   "cell_type": "code",
   "execution_count": 3,
   "id": "5ce4ebb4",
   "metadata": {
    "vscode": {
     "languageId": "racket"
    }
   },
   "outputs": [
    {
     "name": "stdout",
     "output_type": "stream",
     "text": [
      "10 *** Test failed!\n"
     ]
    }
   ],
   "source": [
    "(carmichael-test 10)"
   ]
  },
  {
   "cell_type": "code",
   "execution_count": 4,
   "id": "ef910321",
   "metadata": {
    "vscode": {
     "languageId": "racket"
    }
   },
   "outputs": [
    {
     "name": "stdout",
     "output_type": "stream",
     "text": [
      "561 *** Test passed!\n"
     ]
    }
   ],
   "source": [
    "(carmichael-test 561)"
   ]
  },
  {
   "cell_type": "code",
   "execution_count": 5,
   "id": "76591fb5",
   "metadata": {
    "vscode": {
     "languageId": "racket"
    }
   },
   "outputs": [
    {
     "name": "stdout",
     "output_type": "stream",
     "text": [
      "1105 *** Test passed!\n"
     ]
    }
   ],
   "source": [
    "(carmichael-test 1105)"
   ]
  },
  {
   "cell_type": "code",
   "execution_count": 6,
   "id": "7764d5d9",
   "metadata": {
    "vscode": {
     "languageId": "racket"
    }
   },
   "outputs": [
    {
     "name": "stdout",
     "output_type": "stream",
     "text": [
      "1729 *** Test passed!\n"
     ]
    }
   ],
   "source": [
    "(carmichael-test 1729)"
   ]
  },
  {
   "cell_type": "code",
   "execution_count": 7,
   "id": "36f9f9f4",
   "metadata": {
    "vscode": {
     "languageId": "racket"
    }
   },
   "outputs": [
    {
     "name": "stdout",
     "output_type": "stream",
     "text": [
      "2465 *** Test passed!\n"
     ]
    }
   ],
   "source": [
    "(carmichael-test 2465)"
   ]
  },
  {
   "cell_type": "code",
   "execution_count": 8,
   "id": "3ad3e6fe",
   "metadata": {
    "vscode": {
     "languageId": "racket"
    }
   },
   "outputs": [
    {
     "name": "stdout",
     "output_type": "stream",
     "text": [
      "2821 *** Test passed!\n"
     ]
    }
   ],
   "source": [
    "(carmichael-test 2821)"
   ]
  },
  {
   "cell_type": "code",
   "execution_count": 9,
   "id": "ce8af331",
   "metadata": {
    "vscode": {
     "languageId": "racket"
    }
   },
   "outputs": [
    {
     "name": "stdout",
     "output_type": "stream",
     "text": [
      "6601 *** Test passed!\n"
     ]
    }
   ],
   "source": [
    "(carmichael-test 6601)"
   ]
  }
 ],
 "metadata": {
  "kernelspec": {
   "display_name": "Racket",
   "language": "racket",
   "name": "racket"
  },
  "language_info": {
   "codemirror_mode": "scheme",
   "file_extension": ".rkt",
   "mimetype": "text/x-racket",
   "name": "Racket",
   "pygments_lexer": "racket",
   "version": "8.17"
  }
 },
 "nbformat": 4,
 "nbformat_minor": 5
}
