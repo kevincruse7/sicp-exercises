{
 "cells": [
  {
   "cell_type": "markdown",
   "id": "83a50838",
   "metadata": {},
   "source": [
    "# Exercise 1.30"
   ]
  },
  {
   "cell_type": "code",
   "execution_count": 1,
   "id": "5cb05451",
   "metadata": {},
   "outputs": [],
   "source": [
    "#lang iracket/lang #:require sicp\n",
    "(#%require \"../../libraries/chapter-01.rkt\")"
   ]
  },
  {
   "cell_type": "code",
   "execution_count": 2,
   "id": "d735ceef",
   "metadata": {},
   "outputs": [],
   "source": [
    "(define (sum term a next b)\n",
    "  (define (iter a result)\n",
    "    (if (> a b)\n",
    "        result\n",
    "        (iter (next a) (+ (term a) result))))\n",
    "  (iter a 0))"
   ]
  },
  {
   "cell_type": "code",
   "execution_count": 3,
   "id": "4f5afbe6",
   "metadata": {},
   "outputs": [
    {
     "data": {
      "text/html": [
       "<code>55</code>"
      ],
      "text/plain": [
       "55"
      ]
     },
     "execution_count": 3,
     "metadata": {},
     "output_type": "execute_result"
    }
   ],
   "source": [
    "(sum identity 1 inc 10)"
   ]
  }
 ],
 "metadata": {
  "kernelspec": {
   "display_name": "Racket",
   "language": "racket",
   "name": "racket"
  },
  "language_info": {
   "codemirror_mode": "scheme",
   "file_extension": ".rkt",
   "mimetype": "text/x-racket",
   "name": "racket",
   "pygments_lexer": "racket",
   "version": "8.17"
  }
 },
 "nbformat": 4,
 "nbformat_minor": 5
}
