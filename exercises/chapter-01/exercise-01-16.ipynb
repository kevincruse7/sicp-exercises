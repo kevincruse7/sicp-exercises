{
 "cells": [
  {
   "cell_type": "markdown",
   "id": "fd596bc6",
   "metadata": {},
   "source": [
    "# Exercise 1.16"
   ]
  },
  {
   "cell_type": "code",
   "execution_count": 1,
   "id": "67299e3f",
   "metadata": {},
   "outputs": [],
   "source": [
    "#lang iracket/lang #:require sicp\n",
    "(#%require \"../../libraries/chapter-01.rkt\")"
   ]
  },
  {
   "cell_type": "code",
   "execution_count": 2,
   "id": "12481737",
   "metadata": {},
   "outputs": [],
   "source": [
    "(define (fast-expt b n)\n",
    "  (define (iter b n a)\n",
    "    (cond ((= n 0) a)\n",
    "          ((even? n) (iter (square b) (/ n 2) a))\n",
    "          (else (iter b (- n 1) (* a b)))))\n",
    "  (iter b n 1))"
   ]
  },
  {
   "cell_type": "markdown",
   "id": "16857a9d",
   "metadata": {},
   "source": [
    "```math\n",
    "\\begin{gather*}\n",
    "\n",
    "a \\times b^n \\\\[1.5em]\n",
    "\n",
    "1 \\times 3^9 \\\\[1.5em]\n",
    "\n",
    "3 \\times (3^2)^4 \\\\[1.5em]\n",
    "\n",
    "3 \\times (3^4)^2 \\\\[1.5em]\n",
    "\n",
    "3 \\times (3^8)^1 \\\\[1.5em]\n",
    "\n",
    "3^9 \\times (3^8)^0 \\\\[1.5em]\n",
    "\n",
    "3^9\n",
    "\n",
    "\\end{gather*}\n",
    "```"
   ]
  },
  {
   "cell_type": "code",
   "execution_count": 3,
   "id": "c7493ed9",
   "metadata": {},
   "outputs": [
    {
     "data": {
      "text/html": [
       "<code>256</code>"
      ],
      "text/plain": [
       "256"
      ]
     },
     "execution_count": 3,
     "metadata": {},
     "output_type": "execute_result"
    }
   ],
   "source": [
    "(fast-expt 2 8)"
   ]
  },
  {
   "cell_type": "code",
   "execution_count": 4,
   "id": "ab946375",
   "metadata": {},
   "outputs": [
    {
     "data": {
      "text/html": [
       "<code>243</code>"
      ],
      "text/plain": [
       "243"
      ]
     },
     "execution_count": 4,
     "metadata": {},
     "output_type": "execute_result"
    }
   ],
   "source": [
    "(fast-expt 3 5)"
   ]
  },
  {
   "cell_type": "code",
   "execution_count": 5,
   "id": "17455b08",
   "metadata": {},
   "outputs": [
    {
     "data": {
      "text/html": [
       "<code>5</code>"
      ],
      "text/plain": [
       "5"
      ]
     },
     "execution_count": 5,
     "metadata": {},
     "output_type": "execute_result"
    }
   ],
   "source": [
    "(fast-expt 5 1)"
   ]
  },
  {
   "cell_type": "code",
   "execution_count": 6,
   "id": "030ffee5",
   "metadata": {},
   "outputs": [
    {
     "data": {
      "text/html": [
       "<code>1</code>"
      ],
      "text/plain": [
       "1"
      ]
     },
     "execution_count": 6,
     "metadata": {},
     "output_type": "execute_result"
    }
   ],
   "source": [
    "(fast-expt 6 0)"
   ]
  }
 ],
 "metadata": {
  "kernelspec": {
   "display_name": "Racket",
   "language": "racket",
   "name": "racket"
  },
  "language_info": {
   "codemirror_mode": "scheme",
   "file_extension": ".rkt",
   "mimetype": "text/x-racket",
   "name": "racket",
   "pygments_lexer": "racket",
   "version": "8.17"
  }
 },
 "nbformat": 4,
 "nbformat_minor": 5
}
