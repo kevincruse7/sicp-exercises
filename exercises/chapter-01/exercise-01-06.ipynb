{
 "cells": [
  {
   "cell_type": "markdown",
   "id": "4504fe7e",
   "metadata": {},
   "source": [
    "# Exercise 1.6"
   ]
  },
  {
   "cell_type": "code",
   "execution_count": 1,
   "id": "cad76d7f",
   "metadata": {},
   "outputs": [],
   "source": [
    "#lang iracket/lang #:require sicp\n",
    "(#%require \"../../libraries/chapter-01.rkt\")"
   ]
  },
  {
   "cell_type": "code",
   "execution_count": 2,
   "id": "c9821fc1",
   "metadata": {},
   "outputs": [],
   "source": [
    "(define (new-if predicate then-clause else-clause)\n",
    "  (cond (predicate then-clause)\n",
    "        (else else-clause)))\n",
    "\n",
    "(define (sqrt-iter guess x)\n",
    "  (new-if (good-enough? guess x)\n",
    "          guess\n",
    "          (sqrt-iter (improve guess x)\n",
    "                     x)))"
   ]
  },
  {
   "cell_type": "markdown",
   "id": "8a2bdd59",
   "metadata": {},
   "source": [
    "Because we have an applicate-order interpreter, and because we're not using the `if` special form, attempting to compute\n",
    "square roots with this procedure will result in infinite recursion, as all operands are evaluated before being passed to\n",
    "the new-if procedure."
   ]
  },
  {
   "cell_type": "code",
   "execution_count": 3,
   "id": "8c97df6a",
   "metadata": {},
   "outputs": [
    {
     "name": "stderr",
     "output_type": "stream",
     "text": [
      "user break\n",
      "  context...:\n",
      "   body of top-level\n",
      "   eval:5:0: sqrt-iter\n"
     ]
    }
   ],
   "source": [
    "(sqrt-iter 1.0 4)"
   ]
  }
 ],
 "metadata": {
  "kernelspec": {
   "display_name": "Racket",
   "language": "racket",
   "name": "racket"
  },
  "language_info": {
   "codemirror_mode": "scheme",
   "file_extension": ".rkt",
   "mimetype": "text/x-racket",
   "name": "racket",
   "pygments_lexer": "racket",
   "version": "8.17"
  }
 },
 "nbformat": 4,
 "nbformat_minor": 5
}
