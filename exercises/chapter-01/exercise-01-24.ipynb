{
 "cells": [
  {
   "cell_type": "markdown",
   "id": "737c8af4",
   "metadata": {},
   "source": [
    "# Exercise 1.24"
   ]
  },
  {
   "cell_type": "code",
   "execution_count": 1,
   "id": "9f16c8e1",
   "metadata": {},
   "outputs": [],
   "source": [
    "#lang iracket/lang #:require sicp\n",
    "(#%require \"../../libraries/chapter-01.rkt\")"
   ]
  },
  {
   "cell_type": "code",
   "execution_count": 2,
   "id": "d5461c3d",
   "metadata": {},
   "outputs": [],
   "source": [
    "(define (timed-prime-test n)\n",
    "  (newline)\n",
    "  (display n)\n",
    "  (start-prime-test n (runtime)))\n",
    "\n",
    "(define (start-prime-test n start-time)\n",
    "  (if (fast-prime? n 5)\n",
    "      (report-prime (- (runtime) start-time))))\n",
    "\n",
    "(define (report-prime elapsed-time)\n",
    "  (display \" *** \")\n",
    "  (display elapsed-time))"
   ]
  },
  {
   "cell_type": "code",
   "execution_count": 3,
   "id": "08ee6b88",
   "metadata": {},
   "outputs": [
    {
     "name": "stdout",
     "output_type": "stream",
     "text": [
      "\n",
      "1009 *** 6"
     ]
    }
   ],
   "source": [
    "(timed-prime-test 1009)"
   ]
  },
  {
   "cell_type": "code",
   "execution_count": 4,
   "id": "1e861492",
   "metadata": {},
   "outputs": [
    {
     "name": "stdout",
     "output_type": "stream",
     "text": [
      "\n",
      "1013 *** 8"
     ]
    }
   ],
   "source": [
    "(timed-prime-test 1013)"
   ]
  },
  {
   "cell_type": "code",
   "execution_count": 5,
   "id": "87565ee9",
   "metadata": {},
   "outputs": [
    {
     "name": "stdout",
     "output_type": "stream",
     "text": [
      "\n",
      "1019 *** 24"
     ]
    }
   ],
   "source": [
    "(timed-prime-test 1019)"
   ]
  },
  {
   "cell_type": "code",
   "execution_count": 6,
   "id": "bf0e10f0",
   "metadata": {},
   "outputs": [
    {
     "name": "stdout",
     "output_type": "stream",
     "text": [
      "\n",
      "10007 *** 8"
     ]
    }
   ],
   "source": [
    "(timed-prime-test 10007)"
   ]
  },
  {
   "cell_type": "code",
   "execution_count": 7,
   "id": "e5541eaf",
   "metadata": {},
   "outputs": [
    {
     "name": "stdout",
     "output_type": "stream",
     "text": [
      "\n",
      "10009 *** 4"
     ]
    }
   ],
   "source": [
    "(timed-prime-test 10009)"
   ]
  },
  {
   "cell_type": "code",
   "execution_count": 8,
   "id": "6398c951",
   "metadata": {},
   "outputs": [
    {
     "name": "stdout",
     "output_type": "stream",
     "text": [
      "\n",
      "10037 *** 3"
     ]
    }
   ],
   "source": [
    "(timed-prime-test 10037)"
   ]
  },
  {
   "cell_type": "code",
   "execution_count": 9,
   "id": "6ddaece2",
   "metadata": {},
   "outputs": [
    {
     "name": "stdout",
     "output_type": "stream",
     "text": [
      "\n",
      "100003 *** 5"
     ]
    }
   ],
   "source": [
    "(timed-prime-test 100003)"
   ]
  },
  {
   "cell_type": "code",
   "execution_count": 10,
   "id": "940118f0",
   "metadata": {},
   "outputs": [
    {
     "name": "stdout",
     "output_type": "stream",
     "text": [
      "\n",
      "100019 *** 4"
     ]
    }
   ],
   "source": [
    "(timed-prime-test 100019)"
   ]
  },
  {
   "cell_type": "code",
   "execution_count": 11,
   "id": "23d41bf1",
   "metadata": {},
   "outputs": [
    {
     "name": "stdout",
     "output_type": "stream",
     "text": [
      "\n",
      "100043 *** 4"
     ]
    }
   ],
   "source": [
    "(timed-prime-test 100043)"
   ]
  },
  {
   "cell_type": "code",
   "execution_count": 12,
   "id": "794a295c",
   "metadata": {},
   "outputs": [
    {
     "name": "stdout",
     "output_type": "stream",
     "text": [
      "\n",
      "1000003 *** 4"
     ]
    }
   ],
   "source": [
    "(timed-prime-test 1000003)"
   ]
  },
  {
   "cell_type": "code",
   "execution_count": 13,
   "id": "0b90135f",
   "metadata": {},
   "outputs": [
    {
     "name": "stdout",
     "output_type": "stream",
     "text": [
      "\n",
      "1000033 *** 4"
     ]
    }
   ],
   "source": [
    "(timed-prime-test 1000033)"
   ]
  },
  {
   "cell_type": "code",
   "execution_count": 14,
   "id": "e2d1d7fc",
   "metadata": {},
   "outputs": [
    {
     "name": "stdout",
     "output_type": "stream",
     "text": [
      "\n",
      "1000037 *** 4"
     ]
    }
   ],
   "source": [
    "(timed-prime-test 1000037)"
   ]
  },
  {
   "cell_type": "code",
   "execution_count": 15,
   "id": "9e139ab4",
   "metadata": {},
   "outputs": [
    {
     "name": "stdout",
     "output_type": "stream",
     "text": [
      "\n",
      "10000019 *** 4"
     ]
    }
   ],
   "source": [
    "(timed-prime-test 10000019)"
   ]
  },
  {
   "cell_type": "code",
   "execution_count": 16,
   "id": "9d6569a1",
   "metadata": {},
   "outputs": [
    {
     "name": "stdout",
     "output_type": "stream",
     "text": [
      "\n",
      "10000079 *** 5"
     ]
    }
   ],
   "source": [
    "(timed-prime-test 10000079)"
   ]
  },
  {
   "cell_type": "code",
   "execution_count": 17,
   "id": "2f98b74b",
   "metadata": {},
   "outputs": [
    {
     "name": "stdout",
     "output_type": "stream",
     "text": [
      "\n",
      "10000103 *** 8"
     ]
    }
   ],
   "source": [
    "(timed-prime-test 10000103)"
   ]
  }
 ],
 "metadata": {
  "kernelspec": {
   "display_name": "Racket",
   "language": "racket",
   "name": "racket"
  },
  "language_info": {
   "codemirror_mode": "scheme",
   "file_extension": ".rkt",
   "mimetype": "text/x-racket",
   "name": "racket",
   "pygments_lexer": "racket",
   "version": "8.17"
  }
 },
 "nbformat": 4,
 "nbformat_minor": 5
}
