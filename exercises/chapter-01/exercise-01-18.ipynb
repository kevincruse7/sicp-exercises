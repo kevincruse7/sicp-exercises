{
 "cells": [
  {
   "cell_type": "markdown",
   "id": "d5bc7eb4",
   "metadata": {},
   "source": [
    "# Exercise 1.18"
   ]
  },
  {
   "cell_type": "code",
   "execution_count": 1,
   "id": "838f55ac",
   "metadata": {},
   "outputs": [],
   "source": [
    "#lang iracket/lang #:require sicp\n",
    "(#%require \"../../libraries/chapter-01.rkt\")"
   ]
  },
  {
   "cell_type": "code",
   "execution_count": 2,
   "id": "3fef5e13",
   "metadata": {},
   "outputs": [],
   "source": [
    "(define (fast-mult x y)\n",
    "  (define (iter a x y)\n",
    "    (cond ((= y 0) a)\n",
    "          ((even? y) (iter a (double x) (halve y)))\n",
    "          (else (iter (+ a x) x (- y 1)))))\n",
    "  (iter 0 x y))"
   ]
  },
  {
   "cell_type": "markdown",
   "id": "001ee653",
   "metadata": {},
   "source": [
    "$$\n",
    "\\begin{gather*}\n",
    "\n",
    "a + x \\times y \\\\[1.5em]\n",
    "\n",
    "0 + 4 \\times 5 \\\\[1.5em]\n",
    "\n",
    "4 + 4 \\times 4 \\\\[1.5em]\n",
    "\n",
    "4 + (4 \\times 2) \\times {\\left(\\dfrac{4}{2}\\right)} \\\\[1.5em]\n",
    "\n",
    "4 + 8 \\times 2 \\\\[1.5em]\n",
    "\n",
    "4 + (8 \\times 2) \\times {\\left(\\dfrac{2}{2}\\right)} \\\\[1.5em]\n",
    "\n",
    "4 + 16 \\times 1 \\\\[1.5em]\n",
    "\n",
    "20 + 16 \\times 0 \\\\[1.5em]\n",
    "\n",
    "20\n",
    "\n",
    "\\end{gather*}\n",
    "$$"
   ]
  },
  {
   "cell_type": "code",
   "execution_count": 3,
   "id": "330bc368",
   "metadata": {},
   "outputs": [
    {
     "data": {
      "text/html": [
       "<code>8</code>"
      ],
      "text/plain": [
       "8"
      ]
     },
     "execution_count": 3,
     "metadata": {},
     "output_type": "execute_result"
    }
   ],
   "source": [
    "(fast-mult 2 4)"
   ]
  },
  {
   "cell_type": "code",
   "execution_count": 4,
   "id": "ae71d3bf",
   "metadata": {},
   "outputs": [
    {
     "data": {
      "text/html": [
       "<code>63</code>"
      ],
      "text/plain": [
       "63"
      ]
     },
     "execution_count": 4,
     "metadata": {},
     "output_type": "execute_result"
    }
   ],
   "source": [
    "(fast-mult 7 9)"
   ]
  },
  {
   "cell_type": "code",
   "execution_count": 5,
   "id": "4d3016b8",
   "metadata": {},
   "outputs": [
    {
     "data": {
      "text/html": [
       "<code>129000</code>"
      ],
      "text/plain": [
       "129000"
      ]
     },
     "execution_count": 5,
     "metadata": {},
     "output_type": "execute_result"
    }
   ],
   "source": [
    "(fast-mult 1000 129)"
   ]
  }
 ],
 "metadata": {
  "kernelspec": {
   "display_name": "Racket",
   "language": "racket",
   "name": "racket"
  },
  "language_info": {
   "codemirror_mode": "scheme",
   "file_extension": ".rkt",
   "mimetype": "text/x-racket",
   "name": "racket",
   "pygments_lexer": "racket",
   "version": "8.17"
  }
 },
 "nbformat": 4,
 "nbformat_minor": 5
}
