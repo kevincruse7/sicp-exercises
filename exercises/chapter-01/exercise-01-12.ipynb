{
 "cells": [
  {
   "cell_type": "markdown",
   "id": "3fb062bc",
   "metadata": {},
   "source": [
    "# Exercise 1.12"
   ]
  },
  {
   "cell_type": "code",
   "execution_count": 1,
   "id": "fba5cc30",
   "metadata": {},
   "outputs": [],
   "source": [
    "#lang iracket/lang #:require sicp\n",
    "(#%require \"../../libraries/chapter-01.rkt\")"
   ]
  },
  {
   "cell_type": "code",
   "execution_count": 2,
   "id": "252867c3",
   "metadata": {},
   "outputs": [],
   "source": [
    "(define (pascal row col)\n",
    "  (cond ((or (< row 0)\n",
    "             (< col 0)\n",
    "             (> col row))\n",
    "         0)\n",
    "        ((and (= row 0)\n",
    "              (= col 0))\n",
    "         1)\n",
    "        (else (+ (pascal (- row 1) (- col 1))\n",
    "                 (pascal (- row 1) col)))))"
   ]
  },
  {
   "cell_type": "code",
   "execution_count": 3,
   "id": "27637401",
   "metadata": {},
   "outputs": [
    {
     "data": {
      "text/html": [
       "<code>2</code>"
      ],
      "text/plain": [
       "2"
      ]
     },
     "execution_count": 3,
     "metadata": {},
     "output_type": "execute_result"
    }
   ],
   "source": [
    "(pascal 2 1)"
   ]
  },
  {
   "cell_type": "code",
   "execution_count": 4,
   "id": "62070f8a",
   "metadata": {},
   "outputs": [
    {
     "data": {
      "text/html": [
       "<code>6</code>"
      ],
      "text/plain": [
       "6"
      ]
     },
     "execution_count": 4,
     "metadata": {},
     "output_type": "execute_result"
    }
   ],
   "source": [
    "(pascal 4 2)"
   ]
  }
 ],
 "metadata": {
  "kernelspec": {
   "display_name": "Racket",
   "language": "racket",
   "name": "racket"
  },
  "language_info": {
   "codemirror_mode": "scheme",
   "file_extension": ".rkt",
   "mimetype": "text/x-racket",
   "name": "racket",
   "pygments_lexer": "racket",
   "version": "8.17"
  }
 },
 "nbformat": 4,
 "nbformat_minor": 5
}
