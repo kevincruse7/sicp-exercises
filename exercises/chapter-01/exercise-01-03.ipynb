{
 "cells": [
  {
   "cell_type": "markdown",
   "id": "d0c583d9",
   "metadata": {},
   "source": [
    "# Exercise 1.3"
   ]
  },
  {
   "cell_type": "code",
   "execution_count": 1,
   "id": "398b15b5",
   "metadata": {},
   "outputs": [],
   "source": [
    "#lang iracket/lang #:require sicp\n",
    "(#%require \"../../libraries/chapter-01.rkt\")"
   ]
  },
  {
   "cell_type": "code",
   "execution_count": 2,
   "id": "ed229ae7",
   "metadata": {},
   "outputs": [],
   "source": [
    "(define (proc x y z)\n",
    "  (cond ((and (< x y) (< x z)) (sum-of-squares y z))\n",
    "        ((and (< y x) (< y z)) (sum-of-squares x z))\n",
    "        (else (sum-of-squares x y))))"
   ]
  },
  {
   "cell_type": "code",
   "execution_count": 3,
   "id": "979e9352",
   "metadata": {},
   "outputs": [
    {
     "data": {
      "text/html": [
       "<code>13</code>"
      ],
      "text/plain": [
       "13"
      ]
     },
     "execution_count": 3,
     "metadata": {},
     "output_type": "execute_result"
    }
   ],
   "source": [
    "(proc 1 2 3)"
   ]
  },
  {
   "cell_type": "code",
   "execution_count": 4,
   "id": "6134faf1",
   "metadata": {},
   "outputs": [
    {
     "data": {
      "text/html": [
       "<code>25</code>"
      ],
      "text/plain": [
       "25"
      ]
     },
     "execution_count": 4,
     "metadata": {},
     "output_type": "execute_result"
    }
   ],
   "source": [
    "(proc 3 2 4)"
   ]
  },
  {
   "cell_type": "code",
   "execution_count": 5,
   "id": "489f811d",
   "metadata": {},
   "outputs": [
    {
     "data": {
      "text/html": [
       "<code>41</code>"
      ],
      "text/plain": [
       "41"
      ]
     },
     "execution_count": 5,
     "metadata": {},
     "output_type": "execute_result"
    }
   ],
   "source": [
    "(proc 4 5 3)"
   ]
  }
 ],
 "metadata": {
  "kernelspec": {
   "display_name": "Racket",
   "language": "racket",
   "name": "racket"
  },
  "language_info": {
   "codemirror_mode": "scheme",
   "file_extension": ".rkt",
   "mimetype": "text/x-racket",
   "name": "racket",
   "pygments_lexer": "racket",
   "version": "8.17"
  }
 },
 "nbformat": 4,
 "nbformat_minor": 5
}
