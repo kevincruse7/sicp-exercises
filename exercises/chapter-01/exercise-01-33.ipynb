{
 "cells": [
  {
   "cell_type": "markdown",
   "id": "577d0bfe",
   "metadata": {},
   "source": [
    "# Exercise 1.33"
   ]
  },
  {
   "cell_type": "code",
   "execution_count": 1,
   "id": "6e4702c6",
   "metadata": {},
   "outputs": [],
   "source": [
    "#lang iracket/lang #:require sicp\n",
    "(#%require \"../../libraries/chapter-01.rkt\")"
   ]
  },
  {
   "cell_type": "code",
   "execution_count": 2,
   "id": "8abbea11",
   "metadata": {},
   "outputs": [],
   "source": [
    "(define (filtered-accumulate combiner null-value term a next b filter)\n",
    "  (cond ((> a b) null-value)\n",
    "        ((filter a) (combiner (term a)\n",
    "                              (filtered-accumulate combiner null-value term (next a) next b filter)))\n",
    "        (else (filtered-accumulate combiner null-value term (next a) next b filter))))\n",
    "\n",
    "(define (sum-of-prime-squares a b)\n",
    "  (filtered-accumulate + 0 square a inc b prime?))"
   ]
  },
  {
   "cell_type": "code",
   "execution_count": 3,
   "id": "58443b99",
   "metadata": {},
   "outputs": [
    {
     "data": {
      "text/html": [
       "<code>87</code>"
      ],
      "text/plain": [
       "87"
      ]
     },
     "execution_count": 3,
     "metadata": {},
     "output_type": "execute_result"
    }
   ],
   "source": [
    "(sum-of-prime-squares 2 10)"
   ]
  },
  {
   "cell_type": "code",
   "execution_count": 4,
   "id": "b7aea51d",
   "metadata": {},
   "outputs": [],
   "source": [
    "(define (product-of-relative-primes n)\n",
    "  (define (relative-prime? a)\n",
    "    (= (gcd a n) 1))\n",
    "  (filtered-accumulate * 1 identity 1 inc (- n 1) relative-prime?))"
   ]
  },
  {
   "cell_type": "code",
   "execution_count": 5,
   "id": "2cb5cd26",
   "metadata": {},
   "outputs": [
    {
     "data": {
      "text/html": [
       "<code>189</code>"
      ],
      "text/plain": [
       "189"
      ]
     },
     "execution_count": 5,
     "metadata": {},
     "output_type": "execute_result"
    }
   ],
   "source": [
    "(product-of-relative-primes 10)"
   ]
  }
 ],
 "metadata": {
  "kernelspec": {
   "display_name": "Racket",
   "language": "racket",
   "name": "racket"
  },
  "language_info": {
   "codemirror_mode": "scheme",
   "file_extension": ".rkt",
   "mimetype": "text/x-racket",
   "name": "racket",
   "pygments_lexer": "racket",
   "version": "8.17"
  }
 },
 "nbformat": 4,
 "nbformat_minor": 5
}
