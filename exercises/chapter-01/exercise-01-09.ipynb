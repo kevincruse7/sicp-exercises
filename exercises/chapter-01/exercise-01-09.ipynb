{
 "cells": [
  {
   "cell_type": "markdown",
   "id": "9dd7b3ae",
   "metadata": {},
   "source": [
    "# Exercise 1.9"
   ]
  },
  {
   "cell_type": "code",
   "execution_count": 1,
   "id": "3e9f7cd4",
   "metadata": {},
   "outputs": [],
   "source": [
    "#lang iracket/lang #:require sicp\n",
    "(#%require \"../../libraries/chapter-01.rkt\")"
   ]
  },
  {
   "cell_type": "code",
   "execution_count": 2,
   "id": "89ed24bd",
   "metadata": {},
   "outputs": [],
   "source": [
    "(define (+-rec a b)\n",
    "  (if (= a 0)\n",
    "      b\n",
    "      (inc (+-rec (dec a) b))))"
   ]
  },
  {
   "cell_type": "markdown",
   "id": "5acf7d21",
   "metadata": {},
   "source": [
    "```scm\n",
    "(+-rec 4 5)\n",
    "(inc (+-rec 3 5))\n",
    "(inc (inc (+-rec 2 5)))\n",
    "(inc (inc (inc (+-rec 1 5))))\n",
    "(inc (inc (inc (inc (+-rec 0 5)))))\n",
    "(inc (inc (inc (inc 5))))\n",
    "(inc (inc (inc 6)))\n",
    "(inc (inc 7))\n",
    "(inc 8)\n",
    "9\n",
    "```"
   ]
  },
  {
   "cell_type": "code",
   "execution_count": 3,
   "id": "21b94a10",
   "metadata": {},
   "outputs": [
    {
     "data": {
      "text/html": [
       "<code>9</code>"
      ],
      "text/plain": [
       "9"
      ]
     },
     "execution_count": 3,
     "metadata": {},
     "output_type": "execute_result"
    }
   ],
   "source": [
    "(+-rec 4 5)"
   ]
  },
  {
   "cell_type": "code",
   "execution_count": 4,
   "id": "861dde6e",
   "metadata": {},
   "outputs": [],
   "source": [
    "(define (+-iter a b)\n",
    "  (if (= a 0)\n",
    "      b\n",
    "      (+-iter (dec a) (inc b))))"
   ]
  },
  {
   "cell_type": "markdown",
   "id": "6546e67c",
   "metadata": {},
   "source": [
    "```scm\n",
    "(+-iter 4 5)\n",
    "(+-iter 3 6)\n",
    "(+-iter 2 7)\n",
    "(+-iter 1 8)\n",
    "(+-iter 0 9)\n",
    "9\n",
    "```"
   ]
  },
  {
   "cell_type": "code",
   "execution_count": 5,
   "id": "f8d76d95",
   "metadata": {},
   "outputs": [
    {
     "data": {
      "text/html": [
       "<code>9</code>"
      ],
      "text/plain": [
       "9"
      ]
     },
     "execution_count": 5,
     "metadata": {},
     "output_type": "execute_result"
    }
   ],
   "source": [
    "(+-iter 4 5)"
   ]
  }
 ],
 "metadata": {
  "kernelspec": {
   "display_name": "Racket",
   "language": "racket",
   "name": "racket"
  },
  "language_info": {
   "codemirror_mode": "scheme",
   "file_extension": ".rkt",
   "mimetype": "text/x-racket",
   "name": "racket",
   "pygments_lexer": "racket",
   "version": "8.17"
  }
 },
 "nbformat": 4,
 "nbformat_minor": 5
}
