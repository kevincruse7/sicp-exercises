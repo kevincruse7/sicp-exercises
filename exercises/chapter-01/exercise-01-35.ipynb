{
 "cells": [
  {
   "cell_type": "markdown",
   "id": "8e0ac44c",
   "metadata": {},
   "source": [
    "# Exercise 1.35"
   ]
  },
  {
   "cell_type": "code",
   "execution_count": 1,
   "id": "efd25f96",
   "metadata": {},
   "outputs": [],
   "source": [
    "#lang iracket/lang #:require sicp\n",
    "(#%require \"../../libraries/chapter-01.rkt\")"
   ]
  },
  {
   "cell_type": "markdown",
   "id": "e78614d0",
   "metadata": {},
   "source": [
    "The golden ratio is the real number which satisfies the equation $x^2 = x + 1$. Divide both sides by $x$, and this\n",
    "equation becomes $x = 1 + \\frac{1}{x}$. Therefore, the golden ratio can be expressed as the fixed point of the function\n",
    "$x \\mapsto 1 + \\frac{1}{x}$."
   ]
  },
  {
   "cell_type": "code",
   "execution_count": 2,
   "id": "3c852b9b",
   "metadata": {},
   "outputs": [
    {
     "data": {
      "text/html": [
       "<code>1.6180327868852458</code>"
      ],
      "text/plain": [
       "1.6180327868852458"
      ]
     },
     "execution_count": 2,
     "metadata": {},
     "output_type": "execute_result"
    }
   ],
   "source": [
    "(fixed-point (lambda (x) (+ 1 (/ 1 x))) 1.0)"
   ]
  }
 ],
 "metadata": {
  "kernelspec": {
   "display_name": "Racket",
   "language": "racket",
   "name": "racket"
  },
  "language_info": {
   "codemirror_mode": "scheme",
   "file_extension": ".rkt",
   "mimetype": "text/x-racket",
   "name": "racket",
   "pygments_lexer": "racket",
   "version": "8.17"
  }
 },
 "nbformat": 4,
 "nbformat_minor": 5
}
